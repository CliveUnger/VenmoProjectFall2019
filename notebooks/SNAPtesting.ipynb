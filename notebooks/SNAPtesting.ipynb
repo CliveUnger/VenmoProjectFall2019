{
 "cells": [
  {
   "cell_type": "code",
   "execution_count": 1,
   "metadata": {},
   "outputs": [
    {
     "name": "stdout",
     "output_type": "stream",
     "text": [
      "23097596\n",
      "131705390\n"
     ]
    }
   ],
   "source": [
    "import snap\n",
    "\n",
    "LoadedGraph = snap.LoadEdgeList(snap.PNEANet, \"/data/06271/cju256/money_flow_weighted_edgelist.csv\", 0, 1, ',')\n",
    "\n",
    "GraphNodes = len(list(LoadedGraph.Nodes()))\n",
    "GraphVertices = len(list(LoadedGraph.Edges()))\n",
    "\n",
    "print(GraphNodes)\n",
    "print(GraphVertices)"
   ]
  },
  {
   "cell_type": "code",
   "execution_count": 2,
   "metadata": {},
   "outputs": [],
   "source": [
    "#GraphClustCoeff = snap.GetClustCf(LoadedGraph, -1)\n",
    "#print(GraphClustCoeff)"
   ]
  },
  {
   "cell_type": "raw",
   "metadata": {},
   "source": [
    "snap.PrintInfo(LoadedGraph, \"Python type PNEANet\", \"info-network.txt\", False)"
   ]
  },
  {
   "cell_type": "markdown",
   "metadata": {},
   "source": [
    "Clustering Coeffient on Unique Edges only. Edges are flow of money. No null nodes:\n",
    "CC: 0.11253357075275515\n",
    "Nodes: 23097596\n",
    "Edges: 131705390"
   ]
  },
  {
   "cell_type": "markdown",
   "metadata": {},
   "source": [
    "Clustering Coeffient on all Edges. Edges are flow of money. No null nodes:\n",
    "CC: 0.017942184397686606\n",
    "Nodes: 23097596\n",
    "Edges: 341309788"
   ]
  },
  {
   "cell_type": "code",
   "execution_count": 4,
   "metadata": {},
   "outputs": [
    {
     "name": "stdout",
     "output_type": "stream",
     "text": [
      "Number of SC Components:  9557171\n"
     ]
    }
   ],
   "source": [
    "Components_s = snap.TCnComV()\n",
    "snap.GetSccs(LoadedGraph, Components_s)\n",
    "print(\"Number of SC Components: \", len(Components_s))"
   ]
  },
  {
   "cell_type": "code",
   "execution_count": 5,
   "metadata": {},
   "outputs": [
    {
     "name": "stdout",
     "output_type": "stream",
     "text": [
      "max scc nodes 13257479, edges 115691467\n"
     ]
    }
   ],
   "source": [
    "MxScc = snap.GetMxScc(LoadedGraph)\n",
    "print(\"max scc nodes %d, edges %d\" % (MxScc.GetNodes(), MxScc.GetEdges()))"
   ]
  },
  {
   "cell_type": "code",
   "execution_count": 8,
   "metadata": {},
   "outputs": [
    {
     "data": {
      "text/plain": [
       "0.5739765731464002"
      ]
     },
     "execution_count": 8,
     "metadata": {},
     "output_type": "execute_result"
    }
   ],
   "source": [
    "13257479/23097596"
   ]
  },
  {
   "cell_type": "code",
   "execution_count": 6,
   "metadata": {},
   "outputs": [
    {
     "name": "stdout",
     "output_type": "stream",
     "text": [
      "Number of WC Components:  444543\n"
     ]
    }
   ],
   "source": [
    "Components = snap.TCnComV()\n",
    "snap.GetWccs(LoadedGraph, Components)\n",
    "print(\"Number of WC Components: \", len(Components))"
   ]
  },
  {
   "cell_type": "code",
   "execution_count": 7,
   "metadata": {},
   "outputs": [
    {
     "name": "stdout",
     "output_type": "stream",
     "text": [
      "max wcc nodes 22067849, edges 131055776\n",
      "# of connected component sizes 39\n",
      "size 1, number of components 2\n",
      "size 2, number of components 357103\n",
      "size 3, number of components 59352\n",
      "size 4, number of components 16693\n",
      "size 5, number of components 5935\n",
      "size 6, number of components 2503\n",
      "size 7, number of components 1278\n",
      "size 8, number of components 647\n",
      "size 9, number of components 356\n",
      "size 10, number of components 229\n",
      "size 11, number of components 128\n",
      "size 12, number of components 77\n",
      "size 13, number of components 60\n",
      "size 14, number of components 50\n",
      "size 15, number of components 29\n",
      "size 16, number of components 24\n",
      "size 17, number of components 10\n",
      "size 18, number of components 10\n",
      "size 19, number of components 11\n",
      "size 20, number of components 9\n",
      "size 21, number of components 5\n",
      "size 22, number of components 2\n",
      "size 23, number of components 5\n",
      "size 24, number of components 3\n",
      "size 25, number of components 1\n",
      "size 26, number of components 2\n",
      "size 27, number of components 2\n",
      "size 28, number of components 1\n",
      "size 29, number of components 3\n",
      "size 30, number of components 2\n",
      "size 31, number of components 1\n",
      "size 32, number of components 2\n",
      "size 33, number of components 1\n",
      "size 34, number of components 1\n",
      "size 35, number of components 2\n",
      "size 44, number of components 1\n",
      "size 49, number of components 1\n",
      "size 65, number of components 1\n",
      "size 22067849, number of components 1\n"
     ]
    }
   ],
   "source": [
    "MxWcc = snap.GetMxWcc(LoadedGraph)\n",
    "print(\"max wcc nodes %d, edges %d\" % (MxWcc.GetNodes(), MxWcc.GetEdges()))\n",
    "\n",
    "WccV = snap.TIntPrV()\n",
    "\n",
    "snap.GetWccSzCnt(LoadedGraph, WccV)\n",
    "\n",
    "print(\"# of connected component sizes\", WccV.Len())\n",
    "for comp in WccV:\n",
    "    print(\"size %d, number of components %d\" % (comp.GetVal1(), comp.GetVal2()))"
   ]
  },
  {
   "cell_type": "code",
   "execution_count": 10,
   "metadata": {},
   "outputs": [
    {
     "data": {
      "text/plain": [
       "0.9554175681313328"
      ]
     },
     "execution_count": 10,
     "metadata": {},
     "output_type": "execute_result"
    }
   ],
   "source": [
    "22067849/23097596"
   ]
  },
  {
   "cell_type": "code",
   "execution_count": null,
   "metadata": {},
   "outputs": [],
   "source": []
  }
 ],
 "metadata": {
  "kernelspec": {
   "display_name": "Python 3",
   "language": "python",
   "name": "python3"
  },
  "language_info": {
   "codemirror_mode": {
    "name": "ipython",
    "version": 3
   },
   "file_extension": ".py",
   "mimetype": "text/x-python",
   "name": "python",
   "nbconvert_exporter": "python",
   "pygments_lexer": "ipython3",
   "version": "3.7.0"
  }
 },
 "nbformat": 4,
 "nbformat_minor": 2
}
