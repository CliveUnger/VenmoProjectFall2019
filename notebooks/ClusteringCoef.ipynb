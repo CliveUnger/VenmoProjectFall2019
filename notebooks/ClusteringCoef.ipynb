{
 "cells": [
  {
   "cell_type": "markdown",
   "metadata": {},
   "source": [
    "Helpful links for processing graphs on pyspark:\n",
    "\n",
    "https://docs.databricks.com/spark/latest/graph-analysis/graphframes/user-guide-python.html\n",
    "\n",
    "https://graphframes.github.io/graphframes/docs/_site/user-guide.html\n",
    "\n",
    "https://pysparktutorial.blogspot.com/2017/10/graphframes-pyspark.html"
   ]
  },
  {
   "cell_type": "code",
   "execution_count": 1,
   "metadata": {},
   "outputs": [],
   "source": [
    "import findspark\n",
    "findspark.init()\n",
    "from pyspark import SparkConf, SparkContext, SQLContext\n",
    "from pyspark.sql.functions import col, size\n",
    "import pyspark.sql.functions as fn"
   ]
  },
  {
   "cell_type": "code",
   "execution_count": 2,
   "metadata": {},
   "outputs": [
    {
     "name": "stdout",
     "output_type": "stream",
     "text": [
      "Spark Version:  2.4.4\n",
      "defaultParallelism:  44\n",
      "Spark WebURLL  http://c251-117.wrangler.tacc.utexas.edu:4040\n"
     ]
    }
   ],
   "source": [
    "# Start spark in local mode using 54gb of memory\n",
    "# local mode only runs on a single node, but it will utilize all cores (We have 48!)\n",
    "conf = SparkConf().setAppName(\"test\") \\\n",
    "    .setMaster(\"local[44]\") \\\n",
    "    .set('spark.driver.memory','54g') \\\n",
    "    .set('spark.jars.packages', 'graphframes:graphframes:0.7.0-spark2.4-s_2.11')\n",
    "#.setMaster(\"yarn\") # this is used when we run on hadoop, ignore for now\n",
    "\n",
    "sc = SparkContext(conf = conf)\n",
    "sqlContext = SQLContext(sc)\n",
    "\n",
    "print(\"Spark Version: \", sc.version)\n",
    "print(\"defaultParallelism: \", sc.defaultParallelism)\n",
    "print(\"Spark WebURLL \", sc.uiWebUrl) # you can view running jobs here, but I am only able to connect to it via VNC rn, maybe SSH tunneling will fix this? idk"
   ]
  },
  {
   "cell_type": "code",
   "execution_count": 3,
   "metadata": {},
   "outputs": [
    {
     "data": {
      "text/plain": [
       "[('spark.jars.packages', 'graphframes:graphframes:0.7.0-spark2.4-s_2.11'),\n",
       " ('spark.app.name', 'test'),\n",
       " ('spark.driver.memory', '54g'),\n",
       " ('spark.files',\n",
       "  'file:///home/06271/cju256/.ivy2/jars/graphframes_graphframes-0.7.0-spark2.4-s_2.11.jar,file:///home/06271/cju256/.ivy2/jars/org.slf4j_slf4j-api-1.7.16.jar'),\n",
       " ('spark.app.id', 'local-1572750743715'),\n",
       " ('spark.executor.id', 'driver'),\n",
       " ('spark.local.dir', '/data/06271/cju256/temp'),\n",
       " ('spark.driver.host', 'c251-117.wrangler.tacc.utexas.edu'),\n",
       " ('spark.master', 'local[44]'),\n",
       " ('spark.submit.pyFiles',\n",
       "  '/home/06271/cju256/.ivy2/jars/graphframes_graphframes-0.7.0-spark2.4-s_2.11.jar,/home/06271/cju256/.ivy2/jars/org.slf4j_slf4j-api-1.7.16.jar'),\n",
       " ('spark.driver.port', '45129'),\n",
       " ('spark.rdd.compress', 'True'),\n",
       " ('spark.repl.local.jars',\n",
       "  'file:///home/06271/cju256/.ivy2/jars/graphframes_graphframes-0.7.0-spark2.4-s_2.11.jar,file:///home/06271/cju256/.ivy2/jars/org.slf4j_slf4j-api-1.7.16.jar'),\n",
       " ('spark.serializer.objectStreamReset', '100'),\n",
       " ('spark.submit.deployMode', 'client'),\n",
       " ('spark.jars',\n",
       "  'file:///home/06271/cju256/.ivy2/jars/graphframes_graphframes-0.7.0-spark2.4-s_2.11.jar,file:///home/06271/cju256/.ivy2/jars/org.slf4j_slf4j-api-1.7.16.jar'),\n",
       " ('spark.ui.showConsoleProgress', 'true')]"
      ]
     },
     "execution_count": 3,
     "metadata": {},
     "output_type": "execute_result"
    }
   ],
   "source": [
    "sc._conf.getAll() # See all the current Spark configuration settings"
   ]
  },
  {
   "cell_type": "code",
   "execution_count": 4,
   "metadata": {},
   "outputs": [],
   "source": [
    "from functools import reduce\n",
    "from pyspark.sql.functions import col, lit, when\n",
    "from graphframes import *"
   ]
  },
  {
   "cell_type": "code",
   "execution_count": 6,
   "metadata": {},
   "outputs": [],
   "source": [
    "nodes_subset_path = '/data/06271/cju256/nodes.json'\n",
    "edges_subset_path = '/data/06271/cju256/weighted_edge_list.csv'\n",
    "\n",
    "nodes_subset = sqlContext.read.json(nodes_subset_path)\n",
    "edges_subset = sqlContext.read.csv(edges_subset_path)"
   ]
  },
  {
   "cell_type": "code",
   "execution_count": 7,
   "metadata": {},
   "outputs": [
    {
     "name": "stdout",
     "output_type": "stream",
     "text": [
      "root\n",
      " |-- about: string (nullable = true)\n",
      " |-- cancelled: boolean (nullable = true)\n",
      " |-- date_created: string (nullable = true)\n",
      " |-- email: string (nullable = true)\n",
      " |-- external_id: string (nullable = true)\n",
      " |-- firstname: string (nullable = true)\n",
      " |-- friends: string (nullable = true)\n",
      " |-- id: long (nullable = true)\n",
      " |-- is_business: boolean (nullable = true)\n",
      " |-- lastname: string (nullable = true)\n",
      " |-- name: string (nullable = true)\n",
      " |-- num_friends: long (nullable = true)\n",
      " |-- phone: string (nullable = true)\n",
      " |-- picture: string (nullable = true)\n",
      " |-- username: string (nullable = true)\n",
      "\n"
     ]
    }
   ],
   "source": [
    "nodes_subset.printSchema()"
   ]
  },
  {
   "cell_type": "code",
   "execution_count": 10,
   "metadata": {},
   "outputs": [
    {
     "name": "stdout",
     "output_type": "stream",
     "text": [
      "root\n",
      " |-- src: string (nullable = true)\n",
      " |-- dst: string (nullable = true)\n",
      " |-- weight: string (nullable = true)\n",
      "\n"
     ]
    }
   ],
   "source": [
    "edges_subset = edges_subset.withColumnRenamed('_c0', 'src') \\\n",
    "                    .withColumnRenamed('_c1', 'dst') \\\n",
    "                    .withColumnRenamed('_c2', 'weight')\n",
    "\n",
    "edges_subset.printSchema()"
   ]
  },
  {
   "cell_type": "code",
   "execution_count": 11,
   "metadata": {},
   "outputs": [],
   "source": [
    "from pyspark.sql.types import StringType, IntegerType, LongType\n",
    "\n",
    "just_nodes = nodes_subset.withColumn(\"id_string\", col('id').cast(LongType())).drop('id').withColumnRenamed(\"id_string\",'id')\n",
    "just_edges = edges_subset \\\n",
    "                .withColumn(\"src_string\", col('src').cast(LongType())).drop('src').withColumnRenamed(\"src_string\",'src') \\\n",
    "                .withColumn(\"dst_string\", col('dst').cast(LongType())).drop('dst').withColumnRenamed(\"dst_string\",'dst')"
   ]
  },
  {
   "cell_type": "raw",
   "metadata": {},
   "source": [
    "just_edges = just_edges.fillna('0', subset=['dst'])"
   ]
  },
  {
   "cell_type": "code",
   "execution_count": 12,
   "metadata": {},
   "outputs": [
    {
     "name": "stdout",
     "output_type": "stream",
     "text": [
      "GraphFrame(v:[id: bigint, about: string ... 13 more fields], e:[src: bigint, dst: bigint ... 1 more field])\n"
     ]
    }
   ],
   "source": [
    "g = GraphFrame(just_nodes, just_edges)\n",
    "print(g)"
   ]
  },
  {
   "cell_type": "code",
   "execution_count": 13,
   "metadata": {},
   "outputs": [
    {
     "data": {
      "text/plain": [
       "DataFrame[about: string, cancelled: boolean, date_created: string, email: string, external_id: string, firstname: string, friends: string, is_business: boolean, lastname: string, name: string, num_friends: bigint, phone: string, picture: string, username: string, id: bigint]"
      ]
     },
     "metadata": {},
     "output_type": "display_data"
    },
    {
     "data": {
      "text/plain": [
       "DataFrame[weight: string, src: bigint, dst: bigint]"
      ]
     },
     "metadata": {},
     "output_type": "display_data"
    }
   ],
   "source": [
    "display(g.vertices)\n",
    "display(g.edges)"
   ]
  },
  {
   "cell_type": "code",
   "execution_count": 11,
   "metadata": {},
   "outputs": [
    {
     "name": "stdout",
     "output_type": "stream",
     "text": [
      "+--------+\n",
      "| max(id)|\n",
      "+--------+\n",
      "|41493705|\n",
      "+--------+\n",
      "\n"
     ]
    }
   ],
   "source": [
    "g.vertices.agg({\"id\": \"max\"}).show()"
   ]
  },
  {
   "cell_type": "code",
   "execution_count": 12,
   "metadata": {},
   "outputs": [
    {
     "name": "stdout",
     "output_type": "stream",
     "text": [
      "Nodes:  23133264\n",
      "Edges:  342281006\n"
     ]
    }
   ],
   "source": [
    "print(\"Nodes: \", g.vertices.count())\n",
    "print(\"Edges: \", g.edges.count())"
   ]
  },
  {
   "cell_type": "code",
   "execution_count": 14,
   "metadata": {},
   "outputs": [
    {
     "name": "stdout",
     "output_type": "stream",
     "text": [
      "Nodes:  23133264\n",
      "Edges:  132514256\n"
     ]
    }
   ],
   "source": [
    "print(\"Nodes: \", g.vertices.count())\n",
    "print(\"Edges: \", g.edges.count())"
   ]
  },
  {
   "cell_type": "code",
   "execution_count": 15,
   "metadata": {},
   "outputs": [],
   "source": [
    "triangles = g.triangleCount()\n",
    "degree_links = g.degrees.withColumn('links', col('degree') * ( col('degree') - 1))\n",
    "clustering_coef = triangles.select(\"id\", \"count\").join(degree_links, on='id')"
   ]
  },
  {
   "cell_type": "code",
   "execution_count": null,
   "metadata": {},
   "outputs": [],
   "source": [
    "clustering_coef = clustering_coef.withColumn(\"clustering_coef\", col('count') / (col('links') - (2 / col('degree'))) ).persist()\n",
    "clustering_coef.show()"
   ]
  },
  {
   "cell_type": "code",
   "execution_count": null,
   "metadata": {},
   "outputs": [],
   "source": [
    "clustering_coef.agg({\"clustering_coef\": \"avg\"}).show()"
   ]
  },
  {
   "cell_type": "code",
   "execution_count": null,
   "metadata": {},
   "outputs": [],
   "source": []
  },
  {
   "cell_type": "code",
   "execution_count": 25,
   "metadata": {},
   "outputs": [
    {
     "name": "stdout",
     "output_type": "stream",
     "text": [
      "root\n",
      " |-- _c0: string (nullable = true)\n",
      " |-- _c1: string (nullable = true)\n",
      " |-- _c2: string (nullable = true)\n",
      " |-- _c3: string (nullable = true)\n",
      " |-- _c4: string (nullable = true)\n",
      "\n"
     ]
    }
   ],
   "source": [
    "cluster_df = sqlContext.read.csv('/data/06271/cju256/clustering.csv')\n",
    "cluster_df.printSchema()"
   ]
  },
  {
   "cell_type": "code",
   "execution_count": 26,
   "metadata": {},
   "outputs": [
    {
     "name": "stdout",
     "output_type": "stream",
     "text": [
      "+--------+---------+------+-----+--------------------+\n",
      "|      id|tri_count|degree|links|              old_cc|\n",
      "+--------+---------+------+-----+--------------------+\n",
      "|10000108|        3|    15|  210| 0.02857142857142857|\n",
      "|10000172|       63|    47| 2162|0.058279370952821465|\n",
      "|10000304|        1|     8|   56| 0.03571428571428571|\n",
      "|10000454|        4|    29|  812|0.009852216748768473|\n",
      "|10000472|        1|     9|   72|0.027777777777777776|\n",
      "|10000591|       33|   124|15252|0.004327301337529505|\n",
      "|10000670|       38|    35| 1190| 0.06386554621848739|\n",
      "|10000720|       22|   111|12210|0.003603603603603...|\n",
      "|10000989|      568|   291|84390| 0.01346131058182249|\n",
      "|  100010|        0|     5|   20|                 0.0|\n",
      "|10001989|        3|     7|   42| 0.14285714285714285|\n",
      "|10002011|       10|    44| 1892|0.010570824524312896|\n",
      "|10002280|       58|   105|10920|0.010622710622710623|\n",
      "| 1000240|       55|   172|29412|0.003739970080239358|\n",
      "| 1000280|       88|   260|67340|0.002613602613602...|\n",
      "|10002811|        2|     3|    6|  0.6666666666666666|\n",
      "|10003360|        2|    25|  600|0.006666666666666667|\n",
      "|10003366|        0|     5|   20|                 0.0|\n",
      "|10004759|        3|    28|  756|0.007936507936507936|\n",
      "|10004786|        0|     1|    0|                null|\n",
      "+--------+---------+------+-----+--------------------+\n",
      "only showing top 20 rows\n",
      "\n"
     ]
    }
   ],
   "source": [
    "cluster_df = cluster_df.withColumnRenamed('_c0', 'id') \\\n",
    "                .withColumnRenamed('_c1', 'tri_count') \\\n",
    "                .withColumnRenamed('_c2', 'degree') \\\n",
    "                .withColumnRenamed('_c3', 'links') \\\n",
    "                .withColumnRenamed('_c4', 'old_cc')\n",
    "\n",
    "cluster_df.show()"
   ]
  },
  {
   "cell_type": "code",
   "execution_count": 27,
   "metadata": {},
   "outputs": [
    {
     "name": "stdout",
     "output_type": "stream",
     "text": [
      "+--------+---------+------+-----+\n",
      "|      id|tri_count|degree|links|\n",
      "+--------+---------+------+-----+\n",
      "|10000108|        3|    15|  210|\n",
      "|10000172|       63|    47| 2162|\n",
      "|10000304|        1|     8|   56|\n",
      "|10000454|        4|    29|  812|\n",
      "|10000472|        1|     9|   72|\n",
      "|10000591|       33|   124|15252|\n",
      "|10000670|       38|    35| 1190|\n",
      "|10000720|       22|   111|12210|\n",
      "|10000989|      568|   291|84390|\n",
      "|  100010|        0|     5|   20|\n",
      "|10001989|        3|     7|   42|\n",
      "|10002011|       10|    44| 1892|\n",
      "|10002280|       58|   105|10920|\n",
      "| 1000240|       55|   172|29412|\n",
      "| 1000280|       88|   260|67340|\n",
      "|10002811|        2|     3|    6|\n",
      "|10003360|        2|    25|  600|\n",
      "|10003366|        0|     5|   20|\n",
      "|10004759|        3|    28|  756|\n",
      "|10004786|        0|     1|    0|\n",
      "+--------+---------+------+-----+\n",
      "only showing top 20 rows\n",
      "\n"
     ]
    }
   ],
   "source": [
    "cluster_df = cluster_df.withColumn(\"id_string\", col('id').cast(LongType())).drop('id').withColumnRenamed(\"id_string\",'id') \\\n",
    "                    .withColumn(\"tri_count_string\", col('tri_count').cast(LongType())).drop('tri_count').withColumnRenamed(\"tri_count_string\",'tri_count') \\\n",
    "                    .withColumn(\"degree_string\", col('degree').cast(LongType())).drop('degree').withColumnRenamed(\"degree_string\",'degree') \\\n",
    "                    .withColumn(\"links_string\", col('links').cast(LongType())).drop('links').withColumnRenamed(\"links_string\",'links') \\\n",
    "                    .drop('old_cc')\n",
    "cluster_df.show()"
   ]
  },
  {
   "cell_type": "code",
   "execution_count": 28,
   "metadata": {},
   "outputs": [
    {
     "name": "stdout",
     "output_type": "stream",
     "text": [
      "+--------+---------+------+-----+--------------------+\n",
      "|      id|tri_count|degree|links|        degree_recip|\n",
      "+--------+---------+------+-----+--------------------+\n",
      "|10000108|        3|    15|  210| 0.06666666666666667|\n",
      "|10000172|       63|    47| 2162| 0.02127659574468085|\n",
      "|10000304|        1|     8|   56|               0.125|\n",
      "|10000454|        4|    29|  812|0.034482758620689655|\n",
      "|10000472|        1|     9|   72|  0.1111111111111111|\n",
      "|10000591|       33|   124|15252|0.008064516129032258|\n",
      "|10000670|       38|    35| 1190| 0.02857142857142857|\n",
      "|10000720|       22|   111|12210|0.009009009009009009|\n",
      "|10000989|      568|   291|84390|0.003436426116838488|\n",
      "|  100010|        0|     5|   20|                 0.2|\n",
      "|10001989|        3|     7|   42| 0.14285714285714285|\n",
      "|10002011|       10|    44| 1892|0.022727272727272728|\n",
      "|10002280|       58|   105|10920|0.009523809523809525|\n",
      "| 1000240|       55|   172|29412|0.005813953488372093|\n",
      "| 1000280|       88|   260|67340|0.003846153846153...|\n",
      "|10002811|        2|     3|    6|  0.3333333333333333|\n",
      "|10003360|        2|    25|  600|                0.04|\n",
      "|10003366|        0|     5|   20|                 0.2|\n",
      "|10004759|        3|    28|  756| 0.03571428571428571|\n",
      "|10004786|        0|     1|    0|                 1.0|\n",
      "+--------+---------+------+-----+--------------------+\n",
      "only showing top 20 rows\n",
      "\n"
     ]
    }
   ],
   "source": [
    "cluster_df = cluster_df.withColumn('degree_recip', 1/col('degree'))\n",
    "cluster_df.show()"
   ]
  },
  {
   "cell_type": "code",
   "execution_count": 29,
   "metadata": {},
   "outputs": [
    {
     "name": "stdout",
     "output_type": "stream",
     "text": [
      "+--------+---------+------+-----+--------------------+--------------------+\n",
      "|      id|tri_count|degree|links|        degree_recip|                  cc|\n",
      "+--------+---------+------+-----+--------------------+--------------------+\n",
      "|10000108|        3|    15|  210| 0.06666666666666667|0.014294790343074968|\n",
      "|10000172|       63|    47| 2162| 0.02127659574468085|0.029140259024524662|\n",
      "|10000304|        1|     8|   56|               0.125|0.017937219730941704|\n",
      "|10000454|        4|    29|  812|0.034482758620689655|0.004926526798606982|\n",
      "|10000472|        1|     9|   72|  0.1111111111111111|0.013931888544891642|\n",
      "|10000591|       33|   124|15252|0.008064516129032258|0.002163652956833749|\n",
      "|10000670|       38|    35| 1190| 0.02857142857142857| 0.03193430656934307|\n",
      "|10000720|       22|   111|12210|0.009009009009009009|0.001801804460683...|\n",
      "|10000989|      568|   291|84390|0.003436426116838488|0.006730655839066276|\n",
      "|  100010|        0|     5|   20|                 0.2|                 0.0|\n",
      "|10001989|        3|     7|   42| 0.14285714285714285| 0.07191780821917808|\n",
      "|10002011|       10|    44| 1892|0.022727272727272728|0.005285539245128895|\n",
      "|10002280|       58|   105|10920|0.009523809523809525|0.005311364575901929|\n",
      "| 1000240|       55|   172|29412|0.005813953488372093|0.001869985779410...|\n",
      "| 1000280|       88|   260|67340|0.003846153846153...|0.001306801456078...|\n",
      "|10002811|        2|     3|    6|  0.3333333333333333|               0.375|\n",
      "|10003360|        2|    25|  600|                0.04|0.003333777837044...|\n",
      "|10003366|        0|     5|   20|                 0.2|                 0.0|\n",
      "|10004759|        3|    28|  756| 0.03571428571428571|0.003968628933194746|\n",
      "|10004786|        0|     1|    0|                 1.0|                -0.0|\n",
      "+--------+---------+------+-----+--------------------+--------------------+\n",
      "only showing top 20 rows\n",
      "\n"
     ]
    }
   ],
   "source": [
    "cluster_df = cluster_df.withColumn('cc', col('tri_count') / (col('links') - 2 * col('degree_recip')))\n",
    "cluster_df.show()"
   ]
  },
  {
   "cell_type": "code",
   "execution_count": 30,
   "metadata": {},
   "outputs": [
    {
     "name": "stdout",
     "output_type": "stream",
     "text": [
      "+------------------+\n",
      "|           avg(cc)|\n",
      "+------------------+\n",
      "|0.0222826487989539|\n",
      "+------------------+\n",
      "\n"
     ]
    }
   ],
   "source": [
    "cluster_df.agg({\"cc\": \"avg\"}).show()"
   ]
  },
  {
   "cell_type": "code",
   "execution_count": 31,
   "metadata": {},
   "outputs": [
    {
     "name": "stdout",
     "output_type": "stream",
     "text": [
      "+--------+\n",
      "| max(id)|\n",
      "+--------+\n",
      "|41493705|\n",
      "+--------+\n",
      "\n"
     ]
    }
   ],
   "source": [
    "cluster_df.agg({\"id\": \"max\"}).show()"
   ]
  },
  {
   "cell_type": "code",
   "execution_count": 32,
   "metadata": {},
   "outputs": [
    {
     "name": "stdout",
     "output_type": "stream",
     "text": [
      "root\n",
      " |-- id: long (nullable = true)\n",
      " |-- tri_count: long (nullable = true)\n",
      " |-- degree: long (nullable = true)\n",
      " |-- links: long (nullable = true)\n",
      " |-- degree_recip: double (nullable = true)\n",
      " |-- cc: double (nullable = true)\n",
      "\n"
     ]
    }
   ],
   "source": [
    "cluster_df.printSchema()"
   ]
  },
  {
   "cell_type": "code",
   "execution_count": null,
   "metadata": {},
   "outputs": [],
   "source": []
  }
 ],
 "metadata": {
  "kernelspec": {
   "display_name": "Python 3",
   "language": "python",
   "name": "python3"
  },
  "language_info": {
   "codemirror_mode": {
    "name": "ipython",
    "version": 3
   },
   "file_extension": ".py",
   "mimetype": "text/x-python",
   "name": "python",
   "nbconvert_exporter": "python",
   "pygments_lexer": "ipython3",
   "version": "3.7.0"
  }
 },
 "nbformat": 4,
 "nbformat_minor": 1
}
