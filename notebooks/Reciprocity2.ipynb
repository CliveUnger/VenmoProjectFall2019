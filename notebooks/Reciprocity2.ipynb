{
 "cells": [
  {
   "cell_type": "code",
   "execution_count": 1,
   "metadata": {},
   "outputs": [],
   "source": [
    "import findspark\n",
    "findspark.init()\n",
    "from pyspark import SparkConf, SparkContext, SQLContext\n",
    "from pyspark.sql.functions import col, size\n",
    "import pyspark.sql.functions as fn"
   ]
  },
  {
   "cell_type": "code",
   "execution_count": 2,
   "metadata": {},
   "outputs": [
    {
     "name": "stdout",
     "output_type": "stream",
     "text": [
      "Spark Version:  2.4.4\n",
      "defaultParallelism:  44\n",
      "Spark WebURLL  http://c251-102.wrangler.tacc.utexas.edu:4040\n"
     ]
    }
   ],
   "source": [
    "# Start spark in local mode using 100gb of memory\n",
    "# local mode only runs on a single node, but it will utilize all cores (We have 48!)\n",
    "conf = SparkConf().setAppName(\"test\") \\\n",
    "    .set('spark.driver.memory','54g') \\\n",
    "    .set('spark.jars.packages', 'graphframes:graphframes:0.6.0-spark2.3-s_2.11') \\\n",
    "    .setMaster(\"local[44]\")\n",
    "#.setMaster(\"yarn\") # this is used when we run on hadoop, ignore for now\n",
    "\n",
    "sc = SparkContext(conf = conf)\n",
    "sqlContext = SQLContext(sc)\n",
    "\n",
    "print(\"Spark Version: \", sc.version)\n",
    "print(\"defaultParallelism: \", sc.defaultParallelism)\n",
    "print(\"Spark WebURLL \", sc.uiWebUrl) # you can view running jobs here, but I am only able to connect to it via VNC rn, maybe SSH tunneling will fix this? idk"
   ]
  },
  {
   "cell_type": "code",
   "execution_count": 3,
   "metadata": {},
   "outputs": [],
   "source": [
    "from functools import reduce\n",
    "from pyspark.sql.functions import col, lit, when\n",
    "from graphframes import *"
   ]
  },
  {
   "cell_type": "code",
   "execution_count": 4,
   "metadata": {},
   "outputs": [],
   "source": [
    "import json\n",
    "from pyspark.sql.types import StructType"
   ]
  },
  {
   "cell_type": "code",
   "execution_count": 5,
   "metadata": {},
   "outputs": [],
   "source": [
    "nodes_path = '/data/06271/cju256/nodes.json'\n",
    "\n",
    "edges_path = '/data/06271/cju256/money_flow_weighted_edgelist.csv'\n",
    "nodes = sqlContext.read.json(nodes_path)\n",
    "edges = sqlContext.read.csv(edges_path)"
   ]
  },
  {
   "cell_type": "code",
   "execution_count": 6,
   "metadata": {},
   "outputs": [
    {
     "name": "stdout",
     "output_type": "stream",
     "text": [
      "root\n",
      " |-- about: string (nullable = true)\n",
      " |-- cancelled: boolean (nullable = true)\n",
      " |-- date_created: string (nullable = true)\n",
      " |-- email: string (nullable = true)\n",
      " |-- external_id: string (nullable = true)\n",
      " |-- firstname: string (nullable = true)\n",
      " |-- friends: string (nullable = true)\n",
      " |-- id: long (nullable = true)\n",
      " |-- is_business: boolean (nullable = true)\n",
      " |-- lastname: string (nullable = true)\n",
      " |-- name: string (nullable = true)\n",
      " |-- num_friends: long (nullable = true)\n",
      " |-- phone: string (nullable = true)\n",
      " |-- picture: string (nullable = true)\n",
      " |-- username: string (nullable = true)\n",
      "\n"
     ]
    }
   ],
   "source": [
    "nodes.printSchema()"
   ]
  },
  {
   "cell_type": "code",
   "execution_count": 9,
   "metadata": {},
   "outputs": [
    {
     "name": "stdout",
     "output_type": "stream",
     "text": [
      "root\n",
      " |-- src: string (nullable = true)\n",
      " |-- dst: string (nullable = true)\n",
      " |-- weight: string (nullable = true)\n",
      "\n"
     ]
    }
   ],
   "source": [
    "edges = edges.withColumnRenamed('_c0', 'src').withColumnRenamed('_c1', 'dst').withColumnRenamed('_c2', 'weight')\n",
    "edges.printSchema()"
   ]
  },
  {
   "cell_type": "code",
   "execution_count": 10,
   "metadata": {},
   "outputs": [],
   "source": [
    "G2 = GraphFrame(nodes, edges)"
   ]
  },
  {
   "cell_type": "code",
   "execution_count": 11,
   "metadata": {},
   "outputs": [],
   "source": [
    "motifs = G2.find(\"(a)-[e]->(b); (b)-[e2]->(a)\")"
   ]
  },
  {
   "cell_type": "code",
   "execution_count": 12,
   "metadata": {},
   "outputs": [
    {
     "name": "stdout",
     "output_type": "stream",
     "text": [
      "+--------------------+------------------+--------------------+------------------+\n",
      "|                   a|                 e|                   b|                e2|\n",
      "+--------------------+------------------+--------------------+------------------+\n",
      "|[, false, 2011-08...|    [55976, 11, 1]|[, false, 2009-07...|    [11, 55976, 1]|\n",
      "|[, false, 2014-04...|  [1315774, 13, 1]|[, false, 2009-07...|  [13, 1315774, 1]|\n",
      "|[, false, 2014-10...|  [2489219, 46, 1]|[, false, 2009-08...|  [46, 2489219, 3]|\n",
      "|[, false, 2013-11...|  [746556, 112, 4]|[, false, 2009-09...|  [112, 746556, 4]|\n",
      "|[, false, 2015-08...| [6060547, 158, 3]|[, false, 2009-09...| [158, 6060547, 5]|\n",
      "|[, false, 2012-02...|   [87794, 173, 8]|[, false, 2009-09...|  [173, 87794, 12]|\n",
      "|[, false, 2014-01...|  [928039, 224, 1]|[, false, 2009-10...|  [224, 928039, 1]|\n",
      "|[, false, 2015-01...| [3342324, 830, 1]|[, false, 2009-11...| [830, 3342324, 1]|\n",
      "|[, false, 2010-04...|   [6675, 1009, 3]|[, false, 2009-11...|   [1009, 6675, 4]|\n",
      "|[, false, 2014-08...|[2178910, 1164, 4]|[, false, 2009-12...|[1164, 2178910, 1]|\n",
      "|[, false, 2014-05...|[1580380, 1390, 3]|[, false, 2009-12...|[1390, 1580380, 1]|\n",
      "|[, false, 2014-10...|[2713897, 1649, 6]|[, false, 2010-01...|[1649, 2713897, 2]|\n",
      "|[, false, 2009-07...|      [3, 1891, 1]|[, false, 2010-01...|      [1891, 3, 1]|\n",
      "|[, false, 2015-05...|[4878527, 2025, 3]|[, false, 2010-01...|[2025, 4878527, 3]|\n",
      "|[, false, 2013-07...| [378418, 2774, 3]|[, false, 2010-02...| [2774, 378418, 3]|\n",
      "|[, false, 2012-05...| [110735, 3233, 1]|[, false, 2010-02...| [3233, 110735, 1]|\n",
      "|[, false, 2012-11...| [171964, 3439, 5]|[, false, 2010-03...| [3439, 171964, 1]|\n",
      "|[, false, 2015-04...|[4440423, 3588, 1]|[, false, 2010-03...|[3588, 4440423, 2]|\n",
      "|[, false, 2012-07...| [132344, 3935, 1]|[, false, 2010-03...| [3935, 132344, 1]|\n",
      "|[, false, 2013-11...| [675923, 4177, 1]|[, false, 2010-03...| [4177, 675923, 1]|\n",
      "+--------------------+------------------+--------------------+------------------+\n",
      "only showing top 20 rows\n",
      "\n"
     ]
    }
   ],
   "source": [
    "motifs.show()"
   ]
  },
  {
   "cell_type": "code",
   "execution_count": 24,
   "metadata": {},
   "outputs": [
    {
     "name": "stdout",
     "output_type": "stream",
     "text": [
      "+--------------------+--------------+--------------------+--------------+\n",
      "|                   a|             e|                   b|            e2|\n",
      "+--------------------+--------------+--------------------+--------------+\n",
      "|[, false, 2009-07...|[11, 55976, 1]|[, false, 2011-08...|[55976, 11, 1]|\n",
      "+--------------------+--------------+--------------------+--------------+\n",
      "\n"
     ]
    }
   ],
   "source": [
    "motifs.filter(\"e2.src == 55976 and e2.dst == 11\").show()"
   ]
  },
  {
   "cell_type": "code",
   "execution_count": 13,
   "metadata": {},
   "outputs": [
    {
     "data": {
      "text/plain": [
       "48566155"
      ]
     },
     "execution_count": 13,
     "metadata": {},
     "output_type": "execute_result"
    }
   ],
   "source": [
    "motifs.count()"
   ]
  },
  {
   "cell_type": "markdown",
   "metadata": {},
   "source": [
    "### The motifs finder will count every pair of edges twice, as seen above. Therefore we divide by 2, to get the proper number of reciprocated edges."
   ]
  },
  {
   "cell_type": "code",
   "execution_count": 26,
   "metadata": {},
   "outputs": [
    {
     "data": {
      "text/plain": [
       "24283077.5"
      ]
     },
     "execution_count": 26,
     "metadata": {},
     "output_type": "execute_result"
    }
   ],
   "source": [
    "48566155/2"
   ]
  },
  {
   "cell_type": "code",
   "execution_count": 14,
   "metadata": {},
   "outputs": [
    {
     "data": {
      "text/plain": [
       "131705390"
      ]
     },
     "execution_count": 14,
     "metadata": {},
     "output_type": "execute_result"
    }
   ],
   "source": [
    "edges.count()"
   ]
  },
  {
   "cell_type": "code",
   "execution_count": 28,
   "metadata": {},
   "outputs": [
    {
     "data": {
      "text/plain": [
       "0.18437420822336884"
      ]
     },
     "execution_count": 28,
     "metadata": {},
     "output_type": "execute_result"
    }
   ],
   "source": [
    "24283077/131705390"
   ]
  },
  {
   "attachments": {
    "image.png": {
     "image/png": "[encoded data removed]"
    }
   },
   "cell_type": "markdown",
   "metadata": {},
   "source": [
    "# Interpretations of this\n",
    "\n",
    "Cold Hard e cash had a reciprocity of 0.147.\n",
    "\n",
    "\n",
    "Based on the traditional interpretation of reciprocity: \n",
    "![image.png](attachment:image.png)\n",
    "\n",
    "\n",
    "We'd say the reciprocity is\n",
    "\n",
    "$r = \\frac{24283077} {131705390} = 0.18437420822336884$"
   ]
  },
  {
   "cell_type": "code",
   "execution_count": null,
   "metadata": {},
   "outputs": [],
   "source": []
  }
 ],
 "metadata": {
  "kernelspec": {
   "display_name": "Python 3",
   "language": "python",
   "name": "python3"
  },
  "language_info": {
   "codemirror_mode": {
    "name": "ipython",
    "version": 3
   },
   "file_extension": ".py",
   "mimetype": "text/x-python",
   "name": "python",
   "nbconvert_exporter": "python",
   "pygments_lexer": "ipython3",
   "version": "3.7.0"
  }
 },
 "nbformat": 4,
 "nbformat_minor": 2
}
