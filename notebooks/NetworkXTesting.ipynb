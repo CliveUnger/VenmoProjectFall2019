{
 "cells": [
  {
   "cell_type": "code",
   "execution_count": 160,
   "metadata": {},
   "outputs": [],
   "source": [
    "import networkx as nx\n",
    "import glob\n",
    "\n",
    "#G = nx.parse_edgelist(file, delimiter=',', create_using=nx.MultiDiGraph(), nodetype=int)\n",
    "path = \"/data/06271/cju256/data_by_month/2012-04/*.json\"\n",
    "file = open(glob.glob(path)[0], 'r')"
   ]
  },
  {
   "cell_type": "raw",
   "metadata": {},
   "source": [
    "for i in range(10):\n",
    "    line = next(file)\n",
    "    print(line)"
   ]
  },
  {
   "cell_type": "code",
   "execution_count": 161,
   "metadata": {},
   "outputs": [],
   "source": [
    "import json\n",
    "\n",
    "G = nx.DiGraph()\n",
    "for line in file:\n",
    "    j = json.loads(line)\n",
    "    src = j.get('src', 0)\n",
    "    dst = j.get('dst', 0)\n",
    "\n",
    "    if G.has_edge(src, dst):\n",
    "        G.add_edge(src, dst, weight = G[src][dst]['weight'] + 1)\n",
    "    else:\n",
    "        G.add_edge(src, dst, weight = 1)\n",
    "    \n",
    "file.close()"
   ]
  },
  {
   "cell_type": "code",
   "execution_count": 162,
   "metadata": {},
   "outputs": [
    {
     "data": {
      "text/plain": [
       "3512"
      ]
     },
     "execution_count": 162,
     "metadata": {},
     "output_type": "execute_result"
    }
   ],
   "source": [
    "G.number_of_nodes()"
   ]
  },
  {
   "cell_type": "code",
   "execution_count": 163,
   "metadata": {},
   "outputs": [
    {
     "data": {
      "text/plain": [
       "2520"
      ]
     },
     "execution_count": 163,
     "metadata": {},
     "output_type": "execute_result"
    }
   ],
   "source": [
    "G.number_of_edges()"
   ]
  },
  {
   "cell_type": "code",
   "execution_count": 164,
   "metadata": {},
   "outputs": [
    {
     "data": {
      "text/plain": [
       "0.025979231738058623"
      ]
     },
     "execution_count": 164,
     "metadata": {},
     "output_type": "execute_result"
    }
   ],
   "source": [
    "nx.average_clustering(G)"
   ]
  },
  {
   "cell_type": "code",
   "execution_count": 165,
   "metadata": {},
   "outputs": [
    {
     "data": {
      "text/plain": [
       "0.39842385093476806"
      ]
     },
     "execution_count": 165,
     "metadata": {},
     "output_type": "execute_result"
    }
   ],
   "source": [
    "nx.average_clustering(G, count_zeros = False)"
   ]
  },
  {
   "cell_type": "code",
   "execution_count": 166,
   "metadata": {},
   "outputs": [
    {
     "data": {
      "text/plain": [
       "0.00034690992218081046"
      ]
     },
     "execution_count": 166,
     "metadata": {},
     "output_type": "execute_result"
    }
   ],
   "source": [
    "nx.average_clustering(G, weight = 'weight')"
   ]
  },
  {
   "cell_type": "code",
   "execution_count": 167,
   "metadata": {},
   "outputs": [
    {
     "data": {
      "text/plain": [
       "0.005320295400432343"
      ]
     },
     "execution_count": 167,
     "metadata": {},
     "output_type": "execute_result"
    }
   ],
   "source": [
    "nx.average_clustering(G, weight = 'weight', count_zeros = False)"
   ]
  },
  {
   "cell_type": "code",
   "execution_count": null,
   "metadata": {},
   "outputs": [],
   "source": []
  },
  {
   "cell_type": "code",
   "execution_count": 168,
   "metadata": {},
   "outputs": [],
   "source": [
    "all_months = ['2012-03', '2012-04', '2012-05', '2012-06', '2012-07', '2012-08', '2012-09', '2012-10', '2012-11', '2012-12', '2013-01', '2013-02', '2013-03', '2013-04', '2013-05', '2013-06', '2013-07', '2013-08', '2013-09', '2013-10', '2013-11', '2013-12', '2014-01', '2014-02', '2014-03', '2014-04', '2014-05', '2014-06', '2014-07', '2014-08', '2014-09', '2014-10', '2014-11', '2014-12', '2015-01', '2015-02', '2015-03', '2015-04', '2015-05', '2015-06', '2015-07', '2015-08', '2015-09', '2015-10', '2015-11', '2015-12', '2016-01', '2016-02', '2016-03', '2016-04', '2016-05', '2016-06', '2016-07', '2016-08', '2016-09', '2016-10', '2016-11', '2016-12', '2017-01', '2017-02', '2017-03', '2017-04', '2017-05', '2017-06', '2017-07', '2017-08', '2017-09', '2017-10', '2017-11', '2017-12', '2018-01', '2018-02', '2018-03', '2018-04', '2018-07', '2018-08']"
   ]
  },
  {
   "cell_type": "code",
   "execution_count": 173,
   "metadata": {},
   "outputs": [
    {
     "name": "stdout",
     "output_type": "stream",
     "text": [
      "2012-03\n",
      "2012-04\n",
      "2012-05\n",
      "2012-06\n",
      "2012-07\n"
     ]
    }
   ],
   "source": [
    "per_month_stats = []\n",
    "\n",
    "for month in all_months[:5]:\n",
    "    path = \"/data/06271/cju256/data_by_month/\" + month + \"/*.json\"\n",
    "    file = open(glob.glob(path)[0], 'r')\n",
    "    \n",
    "    G = nx.DiGraph()\n",
    "    for line in file:\n",
    "        j = json.loads(line)\n",
    "        src = j.get('src', 0)\n",
    "        dst = j.get('dst', 0)\n",
    "\n",
    "        if G.has_edge(src, dst):\n",
    "            G.add_edge(src, dst, weight = G[src][dst]['weight'] + 1)\n",
    "        else:\n",
    "            G.add_edge(src, dst, weight = 1)\n",
    "    file.close()\n",
    "    \n",
    "    print(month)\n",
    "    stats = []\n",
    "    stats.append(month)\n",
    "    stats.append(G.number_of_nodes())\n",
    "    stats.append(G.number_of_edges())\n",
    "    \n",
    "    avg_cc = nx.average_clustering(G)\n",
    "    stats.append(nx.average_clustering(G))\n",
    "    stats.append(nx.average_clustering(G, weight = 'weight'))\n",
    "    \n",
    "    if avg_cc > 0:\n",
    "        stats.append(nx.average_clustering(G, count_zeros = False))\n",
    "        stats.append(nx.average_clustering(G, weight = 'weight', count_zeros = False))\n",
    "    else:\n",
    "        stats.append(0)\n",
    "        stats.append(0)\n",
    "\n",
    "    per_month_stats.append(stats)"
   ]
  },
  {
   "cell_type": "code",
   "execution_count": 174,
   "metadata": {},
   "outputs": [
    {
     "name": "stdout",
     "output_type": "stream",
     "text": [
      "[['2012-03', 17, 13, 0.0, 0.0, 0, 0], ['2012-04', 3512, 2520, 0.025979231738058623, 0.00034690992218081046, 0.39842385093476806, 0.005320295400432343], ['2012-05', 4643, 3404, 0.03312800050519209, 0.0016689848587177981, 0.41910982655478707, 0.021114704901980207], ['2012-06', 4990, 3710, 0.029863150728292955, 0.002151382015186325, 0.41976654122304746, 0.030240552833182426], ['2012-07', 5655, 4171, 0.03459458538893594, 0.0008323646097167617, 0.41359911284235257, 0.009951420439636972]]\n"
     ]
    }
   ],
   "source": [
    "print(per_month_stats)"
   ]
  },
  {
   "cell_type": "code",
   "execution_count": 175,
   "metadata": {},
   "outputs": [
    {
     "data": {
      "text/html": [
       "<div>\n",
       "<style scoped>\n",
       "    .dataframe tbody tr th:only-of-type {\n",
       "        vertical-align: middle;\n",
       "    }\n",
       "\n",
       "    .dataframe tbody tr th {\n",
       "        vertical-align: top;\n",
       "    }\n",
       "\n",
       "    .dataframe thead th {\n",
       "        text-align: right;\n",
       "    }\n",
       "</style>\n",
       "<table border=\"1\" class=\"dataframe\">\n",
       "  <thead>\n",
       "    <tr style=\"text-align: right;\">\n",
       "      <th></th>\n",
       "      <th>month</th>\n",
       "      <th>nodes</th>\n",
       "      <th>edges</th>\n",
       "      <th>cc</th>\n",
       "      <th>cc_weighted</th>\n",
       "      <th>cc_nozeros</th>\n",
       "      <th>cc_weighted_nozeros</th>\n",
       "    </tr>\n",
       "  </thead>\n",
       "  <tbody>\n",
       "    <tr>\n",
       "      <th>0</th>\n",
       "      <td>2012-03</td>\n",
       "      <td>17</td>\n",
       "      <td>13</td>\n",
       "      <td>0.000000</td>\n",
       "      <td>0.000000</td>\n",
       "      <td>0.000000</td>\n",
       "      <td>0.000000</td>\n",
       "    </tr>\n",
       "    <tr>\n",
       "      <th>1</th>\n",
       "      <td>2012-04</td>\n",
       "      <td>3512</td>\n",
       "      <td>2520</td>\n",
       "      <td>0.025979</td>\n",
       "      <td>0.000347</td>\n",
       "      <td>0.398424</td>\n",
       "      <td>0.005320</td>\n",
       "    </tr>\n",
       "    <tr>\n",
       "      <th>2</th>\n",
       "      <td>2012-05</td>\n",
       "      <td>4643</td>\n",
       "      <td>3404</td>\n",
       "      <td>0.033128</td>\n",
       "      <td>0.001669</td>\n",
       "      <td>0.419110</td>\n",
       "      <td>0.021115</td>\n",
       "    </tr>\n",
       "    <tr>\n",
       "      <th>3</th>\n",
       "      <td>2012-06</td>\n",
       "      <td>4990</td>\n",
       "      <td>3710</td>\n",
       "      <td>0.029863</td>\n",
       "      <td>0.002151</td>\n",
       "      <td>0.419767</td>\n",
       "      <td>0.030241</td>\n",
       "    </tr>\n",
       "    <tr>\n",
       "      <th>4</th>\n",
       "      <td>2012-07</td>\n",
       "      <td>5655</td>\n",
       "      <td>4171</td>\n",
       "      <td>0.034595</td>\n",
       "      <td>0.000832</td>\n",
       "      <td>0.413599</td>\n",
       "      <td>0.009951</td>\n",
       "    </tr>\n",
       "  </tbody>\n",
       "</table>\n",
       "</div>"
      ],
      "text/plain": [
       "     month  nodes  edges        cc  cc_weighted  cc_nozeros  \\\n",
       "0  2012-03     17     13  0.000000     0.000000    0.000000   \n",
       "1  2012-04   3512   2520  0.025979     0.000347    0.398424   \n",
       "2  2012-05   4643   3404  0.033128     0.001669    0.419110   \n",
       "3  2012-06   4990   3710  0.029863     0.002151    0.419767   \n",
       "4  2012-07   5655   4171  0.034595     0.000832    0.413599   \n",
       "\n",
       "   cc_weighted_nozeros  \n",
       "0             0.000000  \n",
       "1             0.005320  \n",
       "2             0.021115  \n",
       "3             0.030241  \n",
       "4             0.009951  "
      ]
     },
     "execution_count": 175,
     "metadata": {},
     "output_type": "execute_result"
    }
   ],
   "source": [
    "import pandas as pd\n",
    "df = pd.DataFrame(per_month_stats, columns=['month', 'nodes', 'edges', 'cc', 'cc_weighted', 'cc_nozeros' ,'cc_weighted_nozeros'])\n",
    "df.head()"
   ]
  },
  {
   "cell_type": "code",
   "execution_count": 176,
   "metadata": {},
   "outputs": [],
   "source": [
    "df.to_csv('test.csv')"
   ]
  },
  {
   "cell_type": "code",
   "execution_count": null,
   "metadata": {},
   "outputs": [],
   "source": []
  }
 ],
 "metadata": {
  "kernelspec": {
   "display_name": "Python 3",
   "language": "python",
   "name": "python3"
  },
  "language_info": {
   "codemirror_mode": {
    "name": "ipython",
    "version": 3
   },
   "file_extension": ".py",
   "mimetype": "text/x-python",
   "name": "python",
   "nbconvert_exporter": "python",
   "pygments_lexer": "ipython3",
   "version": "3.7.0"
  }
 },
 "nbformat": 4,
 "nbformat_minor": 2
}
