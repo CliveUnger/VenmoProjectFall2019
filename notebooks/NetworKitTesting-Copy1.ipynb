{
 "cells": [
  {
   "cell_type": "code",
   "execution_count": 1,
   "metadata": {},
   "outputs": [
    {
     "data": {
      "text/html": [
       "\n",
       "\t\t\t<script type=\"text/javascript\">\n",
       "\t\t\t<!--\n",
       "\t\t\t\t\n",
       "\t\t\t{\n",
       "\t\t\t\tvar element = document.getElementById('NetworKit_script');\n",
       "\t\t\t\tif (element) {\n",
       "\t\t\t\t\telement.parentNode.removeChild(element);\n",
       "\t\t\t\t}\n",
       "\t\t\t\telement = document.createElement('script');\n",
       "\t\t\t\telement.type = 'text/javascript';\n",
       "\t\t\t\telement.innerHTML = 'function NetworKit_pageEmbed(id) { var i, j; var elements; elements = document.getElementById(id).getElementsByClassName(\"Plot\"); for (i=0; i<elements.length; i++) { elements[i].id = id + \"_Plot_\" + i; var data = elements[i].getAttribute(\"data-image\").split(\"|\"); elements[i].removeAttribute(\"data-image\"); var content = \"<div class=\\\\\"Image\\\\\" id=\\\\\"\" + elements[i].id + \"_Image\\\\\" />\"; elements[i].innerHTML = content; elements[i].setAttribute(\"data-image-index\", 0); elements[i].setAttribute(\"data-image-length\", data.length); for (j=0; j<data.length; j++) { elements[i].setAttribute(\"data-image-\" + j, data[j]); } NetworKit_plotUpdate(elements[i]); elements[i].onclick = function (e) { NetworKit_overlayShow((e.target) ? e.target : e.srcElement); } } elements = document.getElementById(id).getElementsByClassName(\"HeatCell\"); for (i=0; i<elements.length; i++) { var data = parseFloat(elements[i].getAttribute(\"data-heat\")); var color = \"#00FF00\"; if (data <= 1 && data > 0) { color = \"hsla(0, 100%, 75%, \" + (data) + \")\"; } else if (data <= 0 && data >= -1) { color = \"hsla(240, 100%, 75%, \" + (-data) + \")\"; } elements[i].style.backgroundColor = color; } elements = document.getElementById(id).getElementsByClassName(\"Details\"); for (i=0; i<elements.length; i++) { elements[i].setAttribute(\"data-title\", \"-\"); NetworKit_toggleDetails(elements[i]); elements[i].onclick = function (e) { NetworKit_toggleDetails((e.target) ? e.target : e.srcElement); } } elements = document.getElementById(id).getElementsByClassName(\"MathValue\"); for (i=elements.length-1; i>=0; i--) { value = elements[i].innerHTML.trim(); if (value === \"nan\") { elements[i].parentNode.innerHTML = \"\" } } elements = document.getElementById(id).getElementsByClassName(\"SubCategory\"); for (i=elements.length-1; i>=0; i--) { value = elements[i].innerHTML.trim(); if (value === \"\") { elements[i].parentNode.removeChild(elements[i]) } } elements = document.getElementById(id).getElementsByClassName(\"Category\"); for (i=elements.length-1; i>=0; i--) { value = elements[i].innerHTML.trim(); if (value === \"\") { elements[i].parentNode.removeChild(elements[i]) } } var isFirefox = false; try { isFirefox = typeof InstallTrigger !== \"undefined\"; } catch (e) {} if (!isFirefox) { alert(\"Currently the function\\'s output is only fully supported by Firefox.\"); } } function NetworKit_plotUpdate(source) { var index = source.getAttribute(\"data-image-index\"); var data = source.getAttribute(\"data-image-\" + index); var image = document.getElementById(source.id + \"_Image\"); image.style.backgroundImage = \"url(\" + data + \")\"; } function NetworKit_showElement(id, show) { var element = document.getElementById(id); element.style.display = (show) ? \"block\" : \"none\"; } function NetworKit_overlayShow(source) { NetworKit_overlayUpdate(source); NetworKit_showElement(\"NetworKit_Overlay\", true); } function NetworKit_overlayUpdate(source) { document.getElementById(\"NetworKit_Overlay_Title\").innerHTML = source.title; var index = source.getAttribute(\"data-image-index\"); var data = source.getAttribute(\"data-image-\" + index); var image = document.getElementById(\"NetworKit_Overlay_Image\"); image.setAttribute(\"data-id\", source.id); image.style.backgroundImage = \"url(\" + data + \")\"; var link = document.getElementById(\"NetworKit_Overlay_Toolbar_Bottom_Save\"); link.href = data; link.download = source.title + \".svg\"; } function NetworKit_overlayImageShift(delta) { var image = document.getElementById(\"NetworKit_Overlay_Image\"); var source = document.getElementById(image.getAttribute(\"data-id\")); var index = parseInt(source.getAttribute(\"data-image-index\")); var length = parseInt(source.getAttribute(\"data-image-length\")); var index = (index+delta) % length; if (index < 0) { index = length + index; } source.setAttribute(\"data-image-index\", index); NetworKit_overlayUpdate(source); } function NetworKit_toggleDetails(source) { var childs = source.children; var show = false; if (source.getAttribute(\"data-title\") == \"-\") { source.setAttribute(\"data-title\", \"+\"); show = false; } else { source.setAttribute(\"data-title\", \"-\"); show = true; } for (i=0; i<childs.length; i++) { if (show) { childs[i].style.display = \"block\"; } else { childs[i].style.display = \"none\"; } } }';\n",
       "\t\t\t\telement.setAttribute('id', 'NetworKit_script');\n",
       "\t\t\t\tdocument.head.appendChild(element);\n",
       "\t\t\t}\n",
       "\t\t\n",
       "\t\t\t\t\n",
       "\t\t\t{\n",
       "\t\t\t\tvar element = document.getElementById('NetworKit_style');\n",
       "\t\t\t\tif (element) {\n",
       "\t\t\t\t\telement.parentNode.removeChild(element);\n",
       "\t\t\t\t}\n",
       "\t\t\t\telement = document.createElement('style');\n",
       "\t\t\t\telement.type = 'text/css';\n",
       "\t\t\t\telement.innerHTML = '.NetworKit_Page { font-family: Arial, Helvetica, sans-serif; font-size: 14px; } .NetworKit_Page .Value:before { font-family: Arial, Helvetica, sans-serif; font-size: 1.05em; content: attr(data-title) \":\"; margin-left: -2.5em; padding-right: 0.5em; } .NetworKit_Page .Details .Value:before { display: block; } .NetworKit_Page .Value { font-family: monospace; white-space: pre; padding-left: 2.5em; white-space: -moz-pre-wrap !important; white-space: -pre-wrap; white-space: -o-pre-wrap; white-space: pre-wrap; word-wrap: break-word; tab-size: 4; -moz-tab-size: 4; } .NetworKit_Page .Category { clear: both; padding-left: 1em; margin-bottom: 1.5em; } .NetworKit_Page .Category:before { content: attr(data-title); font-size: 1.75em; display: block; margin-left: -0.8em; margin-bottom: 0.5em; } .NetworKit_Page .SubCategory { margin-bottom: 1.5em; padding-left: 1em; } .NetworKit_Page .SubCategory:before { font-size: 1.6em; display: block; margin-left: -0.8em; margin-bottom: 0.5em; } .NetworKit_Page .SubCategory[data-title]:before { content: attr(data-title); } .NetworKit_Page .Block { display: block; } .NetworKit_Page .Block:after { content: \".\"; visibility: hidden; display: block; height: 0; clear: both; } .NetworKit_Page .Block .Thumbnail_Overview, .NetworKit_Page .Block .Thumbnail_ScatterPlot { width: 260px; float: left; } .NetworKit_Page .Block .Thumbnail_Overview img, .NetworKit_Page .Block .Thumbnail_ScatterPlot img { width: 260px; } .NetworKit_Page .Block .Thumbnail_Overview:before, .NetworKit_Page .Block .Thumbnail_ScatterPlot:before { display: block; text-align: center; font-weight: bold; } .NetworKit_Page .Block .Thumbnail_Overview:before { content: attr(data-title); } .NetworKit_Page .HeatCell { font-family: \"Courier New\", Courier, monospace; cursor: pointer; } .NetworKit_Page .HeatCell, .NetworKit_Page .HeatCellName { display: inline; padding: 0.1em; margin-right: 2px; background-color: #FFFFFF } .NetworKit_Page .HeatCellName { margin-left: 0.25em; } .NetworKit_Page .HeatCell:before { content: attr(data-heat); display: inline-block; color: #000000; width: 4em; text-align: center; } .NetworKit_Page .Measure { clear: both; } .NetworKit_Page .Measure .Details { cursor: pointer; } .NetworKit_Page .Measure .Details:before { content: \"[\" attr(data-title) \"]\"; display: block; } .NetworKit_Page .Measure .Details .Value { border-left: 1px dotted black; margin-left: 0.4em; padding-left: 3.5em; pointer-events: none; } .NetworKit_Page .Measure .Details .Spacer:before { content: \".\"; opacity: 0.0; pointer-events: none; } .NetworKit_Page .Measure .Plot { width: 440px; height: 440px; cursor: pointer; float: left; margin-left: -0.9em; margin-right: 20px; } .NetworKit_Page .Measure .Plot .Image { background-repeat: no-repeat; background-position: center center; background-size: contain; height: 100%; pointer-events: none; } .NetworKit_Page .Measure .Stat { width: 500px; float: left; } .NetworKit_Page .Measure .Stat .Group { padding-left: 1.25em; margin-bottom: 0.75em; } .NetworKit_Page .Measure .Stat .Group .Title { font-size: 1.1em; display: block; margin-bottom: 0.3em; margin-left: -0.75em; border-right-style: dotted; border-right-width: 1px; border-bottom-style: dotted; border-bottom-width: 1px; background-color: #D0D0D0; padding-left: 0.2em; } .NetworKit_Page .Measure .Stat .Group .List { -webkit-column-count: 3; -moz-column-count: 3; column-count: 3; } .NetworKit_Page .Measure .Stat .Group .List .Entry { position: relative; line-height: 1.75em; } .NetworKit_Page .Measure .Stat .Group .List .Entry[data-tooltip]:before { position: absolute; left: 0; top: -40px; background-color: #808080; color: #ffffff; height: 30px; line-height: 30px; border-radius: 5px; padding: 0 15px; content: attr(data-tooltip); white-space: nowrap; display: none; } .NetworKit_Page .Measure .Stat .Group .List .Entry[data-tooltip]:after { position: absolute; left: 15px; top: -10px; border-top: 7px solid #808080; border-left: 7px solid transparent; border-right: 7px solid transparent; content: \"\"; display: none; } .NetworKit_Page .Measure .Stat .Group .List .Entry[data-tooltip]:hover:after, .NetworKit_Page .Measure .Stat .Group .List .Entry[data-tooltip]:hover:before { display: block; } .NetworKit_Page .Measure .Stat .Group .List .Entry .MathValue { font-family: \"Courier New\", Courier, monospace; } .NetworKit_Page .Measure:after { content: \".\"; visibility: hidden; display: block; height: 0; clear: both; } .NetworKit_Page .PartitionPie { clear: both; } .NetworKit_Page .PartitionPie img { width: 600px; } #NetworKit_Overlay { left: 0px; top: 0px; display: none; position: absolute; width: 100%; height: 100%; background-color: rgba(0,0,0,0.6); z-index: 1000; } #NetworKit_Overlay_Title { position: absolute; color: white; transform: rotate(-90deg); width: 32em; height: 32em; padding-right: 0.5em; padding-top: 0.5em; text-align: right; font-size: 40px; } #NetworKit_Overlay .button { background: white; cursor: pointer; } #NetworKit_Overlay .button:before { size: 13px; display: inline-block; text-align: center; margin-top: 0.5em; margin-bottom: 0.5em; width: 1.5em; height: 1.5em; } #NetworKit_Overlay .icon-close:before { content: \"X\"; } #NetworKit_Overlay .icon-previous:before { content: \"P\"; } #NetworKit_Overlay .icon-next:before { content: \"N\"; } #NetworKit_Overlay .icon-save:before { content: \"S\"; } #NetworKit_Overlay_Toolbar_Top, #NetworKit_Overlay_Toolbar_Bottom { position: absolute; width: 40px; right: 13px; text-align: right; z-index: 1100; } #NetworKit_Overlay_Toolbar_Top { top: 0.5em; } #NetworKit_Overlay_Toolbar_Bottom { Bottom: 0.5em; } #NetworKit_Overlay_ImageContainer { position: absolute; top: 5%; left: 5%; height: 90%; width: 90%; background-repeat: no-repeat; background-position: center center; background-size: contain; } #NetworKit_Overlay_Image { height: 100%; width: 100%; background-repeat: no-repeat; background-position: center center; background-size: contain; }';\n",
       "\t\t\t\telement.setAttribute('id', 'NetworKit_style');\n",
       "\t\t\t\tdocument.head.appendChild(element);\n",
       "\t\t\t}\n",
       "\t\t\n",
       "\t\t\t\t\n",
       "\t\t\t{\n",
       "\t\t\t\tvar element = document.getElementById('NetworKit_Overlay');\n",
       "\t\t\t\tif (element) {\n",
       "\t\t\t\t\telement.parentNode.removeChild(element);\n",
       "\t\t\t\t}\n",
       "\t\t\t\telement = document.createElement('div');\n",
       "\t\t\t\telement.innerHTML = '<div id=\"NetworKit_Overlay_Toolbar_Top\"><div class=\"button icon-close\" id=\"NetworKit_Overlay_Close\" /></div><div id=\"NetworKit_Overlay_Title\" /> <div id=\"NetworKit_Overlay_ImageContainer\"> <div id=\"NetworKit_Overlay_Image\" /> </div> <div id=\"NetworKit_Overlay_Toolbar_Bottom\"> <div class=\"button icon-previous\" onclick=\"NetworKit_overlayImageShift(-1)\" /> <div class=\"button icon-next\" onclick=\"NetworKit_overlayImageShift(1)\" /> <a id=\"NetworKit_Overlay_Toolbar_Bottom_Save\"><div class=\"button icon-save\" /></a> </div>';\n",
       "\t\t\t\telement.setAttribute('id', 'NetworKit_Overlay');\n",
       "\t\t\t\tdocument.body.appendChild(element);\n",
       "\t\t\t\tdocument.getElementById('NetworKit_Overlay_Close').onclick = function (e) {\n",
       "\t\t\t\t\tdocument.getElementById('NetworKit_Overlay').style.display = 'none';\n",
       "\t\t\t\t}\n",
       "\t\t\t}\n",
       "\t\t\n",
       "\t\t\t-->\n",
       "\t\t\t</script>\n",
       "\t\t"
      ]
     },
     "metadata": {},
     "output_type": "display_data"
    }
   ],
   "source": [
    "import networkit as nk\n",
    "nk.setNumberOfThreads(44) # set the maximum number of available threads"
   ]
  },
  {
   "cell_type": "code",
   "execution_count": 2,
   "metadata": {},
   "outputs": [
    {
     "name": "stdout",
     "output_type": "stream",
     "text": [
      "23097596 131705390\n"
     ]
    }
   ],
   "source": [
    "reader = nk.graphio.EdgeListReader(separator=',', continuous=False, directed=True, firstNode=0)\n",
    "G = reader.read(\"/data/06271/cju256/money_flow_weighted_edgelist.csv\")\n",
    "\n",
    "n = G.numberOfNodes()\n",
    "m = G.numberOfEdges()\n",
    "print(n, m)"
   ]
  },
  {
   "cell_type": "code",
   "execution_count": 20,
   "metadata": {
    "scrolled": true
   },
   "outputs": [],
   "source": [
    "mapping = reader.getNodeMap()"
   ]
  },
  {
   "cell_type": "code",
   "execution_count": 3,
   "metadata": {},
   "outputs": [
    {
     "name": "stdout",
     "output_type": "stream",
     "text": [
      "Network Properties for:\t\tG#3\n",
      "nodes, edges\t\t\t23097596, 131705390\n",
      "directed?\t\t\tTrue\n",
      "weighted?\t\t\tTrue\n",
      "isolated nodes\t\t\t3928263\n",
      "self-loops\t\t\t5\n",
      "density\t\t\t\t0.000000\n",
      "min/max/avg degree\t\t0, 105607, 5.702125\n",
      "degree assortativity\t\t-0.003319\n",
      "number of connected components\t9557171\n",
      "size of largest component\t13257479 (57.40 %)\n"
     ]
    }
   ],
   "source": [
    "nk.overview(G)"
   ]
  },
  {
   "cell_type": "code",
   "execution_count": 4,
   "metadata": {},
   "outputs": [
    {
     "name": "stderr",
     "output_type": "stream",
     "text": [
      "INFO:root:taking 23026 samples\n"
     ]
    },
    {
     "data": {
      "text/plain": [
       "0.13727959697732997"
      ]
     },
     "execution_count": 4,
     "metadata": {},
     "output_type": "execute_result"
    }
   ],
   "source": [
    "nk.globals.clustering(G)"
   ]
  },
  {
   "cell_type": "code",
   "execution_count": 18,
   "metadata": {},
   "outputs": [
    {
     "ename": "RuntimeError",
     "evalue": "Not implemented: Local clustering coefficient is currently not implemented for directed graphs",
     "output_type": "error",
     "traceback": [
      "\u001b[0;31m---------------------------------------------------------------------------\u001b[0m",
      "\u001b[0;31mRuntimeError\u001b[0m                              Traceback (most recent call last)",
      "\u001b[0;32m<ipython-input-18-bfcbefbf21e5>\u001b[0m in \u001b[0;36m<module>\u001b[0;34m\u001b[0m\n\u001b[1;32m      1\u001b[0m \u001b[0;31m# Initialize algorithm\u001b[0m\u001b[0;34m\u001b[0m\u001b[0;34m\u001b[0m\u001b[0m\n\u001b[0;32m----> 2\u001b[0;31m \u001b[0mlcc\u001b[0m \u001b[0;34m=\u001b[0m \u001b[0mnk\u001b[0m\u001b[0;34m.\u001b[0m\u001b[0mcentrality\u001b[0m\u001b[0;34m.\u001b[0m\u001b[0mLocalClusteringCoefficient\u001b[0m\u001b[0;34m(\u001b[0m\u001b[0mG\u001b[0m\u001b[0;34m)\u001b[0m\u001b[0;34m\u001b[0m\u001b[0m\n\u001b[0m\u001b[1;32m      3\u001b[0m \u001b[0mlcc\u001b[0m\u001b[0;34m.\u001b[0m\u001b[0mrun\u001b[0m\u001b[0;34m(\u001b[0m\u001b[0;34m)\u001b[0m\u001b[0;34m\u001b[0m\u001b[0m\n",
      "\u001b[0;32mnetworkit/_NetworKit.pyx\u001b[0m in \u001b[0;36mnetworkit._NetworKit.LocalClusteringCoefficient.__cinit__\u001b[0;34m()\u001b[0m\n",
      "\u001b[0;31mRuntimeError\u001b[0m: Not implemented: Local clustering coefficient is currently not implemented for directed graphs"
     ]
    }
   ],
   "source": [
    "# Initialize algorithm\n",
    "lcc = nk.centrality.LocalClusteringCoefficient(G)\n",
    "lcc.run()\n",
    "lcc.ranking()[:10]"
   ]
  },
  {
   "cell_type": "code",
   "execution_count": 5,
   "metadata": {},
   "outputs": [
    {
     "name": "stdout",
     "output_type": "stream",
     "text": [
      "number of components  9557171\n",
      "component of node  10 :  3469936\n"
     ]
    }
   ],
   "source": [
    "cc = nk.components.StronglyConnectedComponents(G)\n",
    "cc.run()\n",
    "print(\"number of components \", cc.numberOfComponents())\n",
    "v = 10\n",
    "print(\"component of node \", v , \": \" , cc.componentOfNode(0))\n",
    "#print(\"map of component sizes: \", cc.getComponentSizes())"
   ]
  },
  {
   "cell_type": "code",
   "execution_count": 6,
   "metadata": {},
   "outputs": [
    {
     "ename": "NameError",
     "evalue": "name 'mapping' is not defined",
     "output_type": "error",
     "traceback": [
      "\u001b[0;31m---------------------------------------------------------------------------\u001b[0m",
      "\u001b[0;31mNameError\u001b[0m                                 Traceback (most recent call last)",
      "\u001b[0;32m<ipython-input-6-296ba5e417a8>\u001b[0m in \u001b[0;36m<module>\u001b[0;34m\u001b[0m\n\u001b[0;32m----> 1\u001b[0;31m \u001b[0mG\u001b[0m\u001b[0;34m.\u001b[0m\u001b[0mweight\u001b[0m\u001b[0;34m(\u001b[0m\u001b[0mmapping\u001b[0m\u001b[0;34m[\u001b[0m\u001b[0;34m'164496'\u001b[0m\u001b[0;34m]\u001b[0m\u001b[0;34m,\u001b[0m \u001b[0mmapping\u001b[0m\u001b[0;34m[\u001b[0m\u001b[0;34m'277424'\u001b[0m\u001b[0;34m]\u001b[0m\u001b[0;34m)\u001b[0m\u001b[0;34m\u001b[0m\u001b[0m\n\u001b[0m",
      "\u001b[0;31mNameError\u001b[0m: name 'mapping' is not defined"
     ]
    }
   ],
   "source": [
    "G.weight(mapping['164496'], mapping['277424'])"
   ]
  },
  {
   "cell_type": "code",
   "execution_count": null,
   "metadata": {},
   "outputs": [],
   "source": [
    "G.weight(mapping['744023'], mapping['582098'])"
   ]
  },
  {
   "cell_type": "code",
   "execution_count": null,
   "metadata": {},
   "outputs": [],
   "source": [
    "%matplotlib inline\n",
    "import matplotlib.pyplot as plt\n",
    "\n",
    "\n",
    "dd = sorted(nk.centrality.DegreeCentrality(G).run().scores(), reverse=True)\n",
    "plt.xscale(\"log\")\n",
    "plt.xlabel(\"degree\")\n",
    "plt.yscale(\"log\")\n",
    "plt.ylabel(\"number of nodes\")\n",
    "plt.plot(dd)\n",
    "plt.show()"
   ]
  },
  {
   "cell_type": "code",
   "execution_count": 44,
   "metadata": {},
   "outputs": [
    {
     "ename": "RuntimeError",
     "evalue": "This community detection method is undefined on directed graphs",
     "output_type": "error",
     "traceback": [
      "\u001b[0;31m---------------------------------------------------------------------------\u001b[0m",
      "\u001b[0;31mRuntimeError\u001b[0m                              Traceback (most recent call last)",
      "\u001b[0;32m<ipython-input-44-dc06e94650dd>\u001b[0m in \u001b[0;36m<module>\u001b[0;34m\u001b[0m\n\u001b[0;32m----> 1\u001b[0;31m \u001b[0mnk\u001b[0m\u001b[0;34m.\u001b[0m\u001b[0mcommunity\u001b[0m\u001b[0;34m.\u001b[0m\u001b[0mdetectCommunities\u001b[0m\u001b[0;34m(\u001b[0m\u001b[0mG\u001b[0m\u001b[0;34m,\u001b[0m \u001b[0malgo\u001b[0m\u001b[0;34m=\u001b[0m\u001b[0mnk\u001b[0m\u001b[0;34m.\u001b[0m\u001b[0mcommunity\u001b[0m\u001b[0;34m.\u001b[0m\u001b[0mPLM\u001b[0m\u001b[0;34m(\u001b[0m\u001b[0mG\u001b[0m\u001b[0;34m,\u001b[0m \u001b[0;32mTrue\u001b[0m\u001b[0;34m)\u001b[0m\u001b[0;34m)\u001b[0m\u001b[0;34m\u001b[0m\u001b[0m\n\u001b[0m",
      "\u001b[0;32mnetworkit/_NetworKit.pyx\u001b[0m in \u001b[0;36mnetworkit._NetworKit.PLM.__cinit__\u001b[0;34m()\u001b[0m\n",
      "\u001b[0;31mRuntimeError\u001b[0m: This community detection method is undefined on directed graphs"
     ]
    }
   ],
   "source": [
    "nk.community.detectCommunities(G, algo=nk.community.PLM(G, True))"
   ]
  },
  {
   "cell_type": "code",
   "execution_count": 7,
   "metadata": {},
   "outputs": [
    {
     "data": {
      "text/plain": [
       "inf"
      ]
     },
     "execution_count": 7,
     "metadata": {},
     "output_type": "execute_result"
    }
   ],
   "source": [
    "v = 10\n",
    "bfs = nk.distance.BFS(G, v)\n",
    "bfs.run()\n",
    "\n",
    "bfsdist = bfs.getDistances(False)\n",
    "\n",
    "sum(bfsdist) / len(bfsdist)"
   ]
  },
  {
   "cell_type": "code",
   "execution_count": 9,
   "metadata": {},
   "outputs": [
    {
     "data": {
      "text/plain": [
       "inf"
      ]
     },
     "execution_count": 9,
     "metadata": {},
     "output_type": "execute_result"
    }
   ],
   "source": [
    "dijkstra = nk.distance.Dijkstra(G, v)\n",
    "dijkstra.run()\n",
    "spdist = dijkstra.getDistances(False)\n",
    "sum(spdist) / len(spdist)"
   ]
  },
  {
   "cell_type": "code",
   "execution_count": 11,
   "metadata": {},
   "outputs": [
    {
     "data": {
      "text/plain": [
       "5.75797892559901"
      ]
     },
     "execution_count": 11,
     "metadata": {},
     "output_type": "execute_result"
    }
   ],
   "source": [
    "\n",
    "\n",
    "\n",
    "        \n",
    "sum_bfs_dist/len(bfsdist)"
   ]
  },
  {
   "cell_type": "code",
   "execution_count": 10,
   "metadata": {},
   "outputs": [
    {
     "name": "stdout",
     "output_type": "stream",
     "text": [
      "23097596\n",
      "23097596\n"
     ]
    }
   ],
   "source": [
    "print(len(bfsdist))\n",
    "print(len(spdist))"
   ]
  },
  {
   "cell_type": "code",
   "execution_count": null,
   "metadata": {},
   "outputs": [
    {
     "name": "stdout",
     "output_type": "stream",
     "text": [
      "13808364: 6.985607636396446\n",
      "5344011: 0.0\n",
      "16150487: 8.391668379687653\n",
      "5924974: 6.718586384487805\n",
      "2646919: 6.511794344311849\n",
      "17599937: 0.0\n",
      "8185846: 6.788385856259673\n",
      "19551820: 4.32945489218878e-08\n",
      "20998531: 0.0\n",
      "7130955: 6.758925214554796\n",
      "9992143: 10.45071642953665\n",
      "19023727: 0.0\n",
      "17989256: 8.116102342425593\n",
      "17669777: 8.037772935330587\n",
      "21675109: 7.153319505631669\n",
      "20727929: 9.38834946286185\n",
      "6819755: 0.0\n",
      "5450636: 0.0\n",
      "14093298: 0.0\n",
      "9960707: 1.298836467656634e-07\n",
      "7584167: 7.531497260580712\n",
      "2464716: 6.8075105305331345\n",
      "15402770: 7.197970299593083\n",
      "21233737: 14.935970782413893\n",
      "20865786: 4.32945489218878e-08\n",
      "16075623: 6.87224778717231\n",
      "3052124: 6.207165845311348\n",
      "9023605: 7.05754564241231\n",
      "10816847: 0.0\n",
      "9421113: 6.767285998075297\n",
      "3018588: 6.868491681991494\n",
      "4039181: 6.8973533436120364\n",
      "13806911: 6.924505693146594\n",
      "10044905: 0.0\n",
      "20999605: 0.0\n",
      "836921: 6.266201383035707\n",
      "5783306: 6.636992265342246\n",
      "6005811: 8.334464677622728\n",
      "10331982: 6.691883086014665\n",
      "15396313: 11.452526834394368\n",
      "8623066: 7.026259832408533\n",
      "20156062: 8.64984096180399\n",
      "2617036: 6.720501908510306\n",
      "8327028: 6.340189775593962\n",
      "19570185: 0.0\n",
      "17814203: 4.32945489218878e-08\n",
      "10926010: 6.705175724781055\n",
      "14071800: 7.541556532549968\n",
      "11353096: 6.673617375591815\n",
      "5193945: 6.538444433784364\n",
      "8591414: 7.926660549435534\n",
      "7870458: 6.872260169413302\n",
      "4350425: 5.855770314798129\n",
      "12064609: 0.0\n",
      "19519838: 8.054633304695432\n",
      "5296838: 6.355611293919939\n",
      "8236130: 6.672187486524572\n",
      "1725691: 5.9847262026749455\n",
      "14172231: 0.0\n",
      "7130525: 6.55036221085519\n",
      "20260103: 6.945354875892712\n",
      "21034518: 4.32945489218878e-08\n",
      "9879301: 7.121647854607899\n",
      "2974929: 6.999341879561839\n",
      "17918213: 8.209460846055148\n",
      "2477446: 6.562711071749631\n",
      "6662484: 7.132262898701666\n",
      "1080959: 5.880263036897866\n",
      "13560816: 8.136418612569031\n",
      "2953286: 6.199277621792328\n",
      "3757072: 6.606943337306618\n",
      "2621689: 6.668438914595268\n",
      "7735141: 6.697300273153968\n",
      "2462985: 6.586559138015922\n",
      "20031007: 9.710019995154473\n",
      "10011616: 8.413238719735162\n",
      "20711525: 0.0\n",
      "4951223: 6.408365225541221\n",
      "2555032: 5.583526787809433\n",
      "2433359: 6.359215088877647\n",
      "14111676: 6.945895581514198\n",
      "4321922: 6.649998727140262\n",
      "14181050: 7.099456757317948\n",
      "17988526: 7.635682821710104\n",
      "21269173: 0.0\n",
      "21882067: 7.697413921344888\n",
      "10703588: 6.764049947016131\n",
      "12116431: 0.0\n",
      "6410355: 8.331141388047483\n",
      "7853248: 6.243889061008773\n",
      "18432719: 0.0\n",
      "2676710: 6.379994134454512\n",
      "21751572: 4.32945489218878e-08\n",
      "18705413: 4.32945489218878e-08\n",
      "13184168: 9.312586470037834\n",
      "6899929: 7.08605081671703\n",
      "14431908: 7.38259600696107\n",
      "21938977: 4.32945489218878e-08\n",
      "13713393: 6.780471829189497\n",
      "4407502: 6.794803363951815\n",
      "16038768: 4.32945489218878e-08\n",
      "479854: 6.682453749732224\n",
      "4331581: 6.529220746609301\n",
      "6760907: 0.0\n",
      "6908707: 6.826794528746628\n",
      "5649932: 7.971002869735881\n",
      "15590458: 8.60664529763184\n",
      "19859166: 0.0\n",
      "10826885: 1.298836467656634e-07\n",
      "5742816: 0.0\n",
      "1178254: 6.145676805499585\n",
      "6967529: 7.330580420577102\n",
      "13903651: 7.242979615714121\n",
      "2074154: 5.951593230741416\n",
      "19993973: 0.0\n",
      "1754681: 7.1790049059651055\n",
      "15572569: 9.362491577045507\n",
      "9144786: 6.423121133472073\n",
      "10509039: 0.0\n",
      "8388846: 6.7673801204246535\n",
      "14463942: 7.9367629860700655\n",
      "8316630: 6.580683937843575\n",
      "1992669: 6.510307825974617\n",
      "16343250: 0.0\n",
      "21571155: 0.0\n",
      "14528173: 6.681224617488331\n",
      "10190730: 6.617173709333214\n",
      "8767675: 13.385713690723485\n",
      "10993325: 0.0\n",
      "21144375: 0.0\n",
      "19333091: 8.120234244291051\n",
      "20349125: 0.0\n",
      "19365752: 4.32945489218878e-08\n",
      "1481373: 4.32945489218878e-08\n",
      "16973394: 11.887270173051776\n",
      "5440500: 7.531590127388149\n",
      "1105607: 6.0959168651144475\n",
      "20865769: 0.0\n",
      "12981508: 7.963600584233961\n",
      "12147258: 8.164859061523112\n",
      "3995730: 7.984017254436349\n",
      "20886476: 0.0\n",
      "22617191: 8.665036395995497\n",
      "20474126: 0.0\n",
      "4026393: 6.68705717252999\n",
      "4139159: 7.861826832541361\n",
      "20962486: 0.0\n",
      "8458977: 7.994135406992139\n",
      "8677232: 7.155361709504314\n",
      "11974298: 0.0\n",
      "9185278: 6.927127827502048e-07\n",
      "3909483: 7.117326236029066\n",
      "18257967: 9.73836588881371\n",
      "22219368: 0.0\n",
      "14554326: 6.611484848899426\n",
      "20986615: 9.284632132279048\n",
      "16331900: 8.074824843243427\n",
      "14395439: 17.39540829270717\n",
      "15756881: 6.682545231114095\n",
      "5312452: 6.046190867655664\n",
      "9208343: 7.6082535169460925\n",
      "11470383: 6.847043822222884\n",
      "4957356: 6.302864808961071\n",
      "3741767: 5.897716108637453\n",
      "129975: 6.410733523956346\n",
      "7026631: 7.730486887033612\n",
      "16923691: 0.0\n",
      "8510113: 6.729879291334042\n",
      "23035740: 11.46036912239698\n",
      "3210202: 5.989104234051024\n",
      "5708514: 7.323000194479114\n",
      "990024: 6.891633094630281\n",
      "1904973: 7.059725133299587\n",
      "15684333: 7.398084718426974\n",
      "5971739: 7.515542786357507\n",
      "1868083: 5.998035596431767\n",
      "5464207: 6.169204925049343\n",
      "6557127: 8.859457018817023\n",
      "2499416: 0.0\n",
      "1822385: 8.65890978437756e-08\n",
      "17728874: 0.0\n",
      "22553171: 5.1520513217046485e-06\n",
      "16489136: 7.884650722958354\n",
      "1154672: 6.444404777016621\n",
      "13132544: 0.0\n",
      "17173586: 0.0\n",
      "9426342: 0.0\n",
      "16190856: 6.5828336420811935\n",
      "11409313: 6.920596022200752\n",
      "10553510: 7.6828246108382885\n",
      "4701134: 7.090106087230896\n",
      "19448138: 0.0\n",
      "13987715: 0.0\n",
      "2041895: 5.898842805978596\n",
      "11838862: 6.971256965443503\n",
      "9909834: 4.32945489218878e-08\n",
      "1555875: 6.255996035258388\n",
      "22673898: 0.0\n",
      "5178027: 6.3086831633906835\n",
      "14513296: 7.853824008351345\n",
      "8767752: 7.03587130885829\n",
      "9445342: 6.612978727309977\n",
      "20427032: 0.0\n",
      "11343066: 6.677647881623698\n",
      "21506532: 0.0\n",
      "14308787: 7.5981200814145335\n",
      "9944701: 6.75444907773086\n",
      "10070478: 11.275507546326466\n",
      "2327349: 8.018526040545519\n",
      "8115710: 7.854175560088591\n",
      "19506790: 10.097282331892895\n",
      "21882870: 6.663259414529547\n",
      "21197366: 7.593689663634259\n",
      "16333437: 4.32945489218878e-08\n",
      "10416274: 4.3294548921887804e-07\n",
      "9546929: 6.408631746784384\n",
      "1714377: 8.015188290590935\n",
      "15205395: 8.039122772776873\n",
      "5650211: 7.531552114774196\n",
      "19957107: 0.0\n",
      "10210089: 0.0\n",
      "18840152: 9.150318197616757\n",
      "21291295: 4.32945489218878e-08\n",
      "6636195: 7.291623639100797\n",
      "4770081: 6.256845257835491\n",
      "21804916: 7.1387826681183615\n",
      "16309200: 9.980205559054717\n",
      "10865854: 6.397167090462575\n",
      "8769600: 10.315156088105446\n",
      "21130497: 8.522196595697665\n",
      "2663149: 6.342380782831253\n",
      "2511969: 7.609049010987984\n",
      "21006372: 0.0\n",
      "3165389: 6.372675494021109\n",
      "21525289: 0.0\n",
      "1885907: 6.117272897144794\n",
      "1859297: 7.88618334999019\n",
      "20303315: 0.0\n",
      "13053718: 6.307720249328112\n",
      "7852849: 0.0\n",
      "7708407: 6.702216239300402\n",
      "7584227: 7.358422538865083\n",
      "14502204: 0.0\n",
      "15685025: 0.0\n",
      "6529322: 7.158616896754104\n",
      "10252107: 6.620059291018857\n",
      "2743296: 7.015239204980467\n",
      "14967385: 0.0\n",
      "1817030: 5.945335479934795\n",
      "8722710: 7.364713453296178\n",
      "8400873: 6.363214769190699\n",
      "22148730: 8.65890978437756e-08\n",
      "12621645: 7.255143349117371\n",
      "12028349: 4.32945489218878e-08\n",
      "10795896: 7.194511931025203\n",
      "14402757: 20.52074389040314\n",
      "13884440: 6.259698931438579\n",
      "1088975: 6.30555140889987\n",
      "13634454: 6.304730847314153\n",
      "9886294: 8.11285044556152\n",
      "19005602: 8.125211991758796\n",
      "6034999: 7.311344046367423\n",
      "13165874: 14.846561520947894\n",
      "21134449: 0.0\n",
      "21365517: 0.0\n",
      "5488981: 7.285939800834684\n",
      "22507437: 7.557238294409514\n",
      "22764630: 8.883293092493263\n",
      "11350917: 9.678001381615646\n",
      "7503624: 0.0\n",
      "4813705: 6.620475697990388\n",
      "5224565: 6.010113173682663\n",
      "13187919: 7.326171650071289\n",
      "7186970: 6.495676173399171\n",
      "18013044: 9.936932830585485\n",
      "3194637: 8.407082711118507\n",
      "9774665: 7.108110038810965\n",
      "22799499: 0.0\n",
      "7426119: 6.248998597083436\n",
      "9549048: 7.6274737855835735\n",
      "10690627: 7.069530352855769\n",
      "965519: 6.3485347998986565\n",
      "1475595: 6.828019807775666\n",
      "14099305: 0.0\n",
      "12190676: 9.436202235072429\n",
      "19911625: 7.456277657640215\n",
      "19845703: 8.075046208272065\n",
      "20118732: 8.09259132422266\n",
      "234112: 6.691297527240497\n",
      "9839251: 6.827039056358939\n",
      "12483103: 0.0\n",
      "13384832: 7.405970560745803\n",
      "17029934: 9.448080743987383\n",
      "12919857: 7.372615790838146\n",
      "6265367: 6.360870932195715\n",
      "18204610: 0.0\n",
      "5073050: 6.230929573796338\n",
      "702633: 5.944142888290193\n",
      "12921318: 0.0\n",
      "16672789: 4.32945489218878e-08\n",
      "7556945: 9.393292098450418\n",
      "14020023: 9.462078001537476\n",
      "20217394: 0.0\n",
      "11893392: 7.200587714842705\n",
      "672684: 7.375021322565344\n",
      "13504312: 0.0\n",
      "1197531: 7.564336652178001\n",
      "10501949: 6.359853380412403\n",
      "7261224: 6.159594141312368\n",
      "21965364: 0.0\n",
      "21763879: 0.0\n",
      "5227527: 7.630491718705271\n",
      "13536460: 8.067123349113908\n",
      "21172311: 1.4287201144222975e-06\n",
      "7267597: 6.671603746121458\n",
      "11688925: 8.361712101986718\n",
      "13409220: 4.32945489218878e-08\n",
      "9938306: 7.411219851624385\n",
      "22742336: 0.0\n",
      "1399241: 6.998823513927596\n",
      "2371703: 6.469670912938299\n",
      "16234977: 6.800002866099138\n",
      "7989725: 3.896509402969902e-07\n",
      "927962: 6.805969028118771\n",
      "9216742: 7.772585034390592\n",
      "2931768: 6.231585919157994\n",
      "2875938: 6.968488149156302\n",
      "3520870: 7.169414513960674\n",
      "7441155: 6.048764685294522\n"
     ]
    },
    {
     "name": "stdout",
     "output_type": "stream",
     "text": [
      "1273603: 5.931559284351497\n",
      "3603683: 7.338161599155168\n",
      "20343657: 8.091262354748952\n",
      "9412609: 6.916548934356632\n",
      "1837433: 5.903326216286751\n",
      "3444625: 5.975338429159468\n",
      "621187: 6.915569871427312\n",
      "8848675: 8.414463306051418\n",
      "16409523: 9.234479640218835\n",
      "3046585: 6.925228841997236\n",
      "22649497: 8.011918599667256\n",
      "13447565: 8.032278467421458\n",
      "14076359: 8.162084790122748\n",
      "17884420: 8.066319629107722\n",
      "2468568: 6.78290281811146\n",
      "7476493: 6.438416188420648\n"
     ]
    }
   ],
   "source": [
    "import random\n",
    "import sys\n",
    "\n",
    "avg_path_len = []\n",
    "for x in range(1000):\n",
    "    random_node = random.randint(0,23097596)\n",
    "    dijkstra = nk.distance.Dijkstra(G, random_node)\n",
    "    dijkstra.run()\n",
    "    spdist = dijkstra.getDistances(False)\n",
    "    \n",
    "    sum_sp_dist = 0\n",
    "    for i in spdist:\n",
    "        if i != sys.float_info.max:\n",
    "            sum_sp_dist += i\n",
    "    \n",
    "    avg_path = sum_sp_dist / len(spdist)\n",
    "    \n",
    "    print(str(random_node) + \": \" + str(avg_path))\n",
    "    avg_path_len.append(avg_path)\n",
    "    \n",
    "print(avg_path_len)"
   ]
  },
  {
   "cell_type": "code",
   "execution_count": null,
   "metadata": {},
   "outputs": [],
   "source": [
    "print(sum(avg_path_len)/len(avg_path_len))"
   ]
  },
  {
   "cell_type": "code",
   "execution_count": null,
   "metadata": {},
   "outputs": [],
   "source": []
  }
 ],
 "metadata": {
  "kernelspec": {
   "display_name": "Python 3",
   "language": "python",
   "name": "python3"
  },
  "language_info": {
   "codemirror_mode": {
    "name": "ipython",
    "version": 3
   },
   "file_extension": ".py",
   "mimetype": "text/x-python",
   "name": "python",
   "nbconvert_exporter": "python",
   "pygments_lexer": "ipython3",
   "version": "3.7.0"
  }
 },
 "nbformat": 4,
 "nbformat_minor": 2
}
