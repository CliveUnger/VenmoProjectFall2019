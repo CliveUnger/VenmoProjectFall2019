{
 "cells": [
  {
   "cell_type": "code",
   "execution_count": 1,
   "metadata": {},
   "outputs": [],
   "source": [
    "import findspark\n",
    "findspark.init()\n",
    "from pyspark import SparkConf, SparkContext, SQLContext\n",
    "from pyspark.sql.functions import col, size"
   ]
  },
  {
   "cell_type": "code",
   "execution_count": 2,
   "metadata": {},
   "outputs": [
    {
     "name": "stdout",
     "output_type": "stream",
     "text": [
      "Spark Version:  2.4.4\n",
      "defaultParallelism:  48\n",
      "Spark WebURLL  http://c251-117.wrangler.tacc.utexas.edu:4040\n"
     ]
    }
   ],
   "source": [
    "# Start spark in local mode using 100gb of memory\n",
    "# local mode only runs on a single node, but it will utilize all cores (We have 48!)\n",
    "conf = SparkConf().setAppName(\"test\").set('spark.driver.memory','8g')\n",
    "#.setMaster(\"yarn\") # this is used when we run on hadoop, ignore for now\n",
    "\n",
    "sc = SparkContext(conf = conf)\n",
    "sqlContext = SQLContext(sc)\n",
    "\n",
    "print(\"Spark Version: \", sc.version)\n",
    "print(\"defaultParallelism: \", sc.defaultParallelism)\n",
    "print(\"Spark WebURLL \", sc.uiWebUrl) # you can view running jobs here, but I am only able to connect to it via VNC rn, maybe SSH tunneling will fix this? idk"
   ]
  },
  {
   "cell_type": "code",
   "execution_count": 3,
   "metadata": {},
   "outputs": [
    {
     "data": {
      "text/plain": [
       "[('spark.app.id', 'local-1570762679085'),\n",
       " ('spark.app.name', 'test'),\n",
       " ('spark.driver.port', '32866'),\n",
       " ('spark.rdd.compress', 'True'),\n",
       " ('spark.driver.memory', '8g'),\n",
       " ('spark.serializer.objectStreamReset', '100'),\n",
       " ('spark.master', 'local[*]'),\n",
       " ('spark.executor.id', 'driver'),\n",
       " ('spark.submit.deployMode', 'client'),\n",
       " ('spark.driver.host', 'c251-117.wrangler.tacc.utexas.edu'),\n",
       " ('spark.ui.showConsoleProgress', 'true')]"
      ]
     },
     "execution_count": 3,
     "metadata": {},
     "output_type": "execute_result"
    }
   ],
   "source": [
    "sc._conf.getAll() # See all the current Spark configuration settings"
   ]
  },
  {
   "cell_type": "code",
   "execution_count": 4,
   "metadata": {},
   "outputs": [],
   "source": [
    "# load data from the json file (we can also do the csv when we have it)\n",
    "clean_path = '/data/06271/cju256/ut_venmo_2018_clean.json'\n",
    "clean_DF = sqlContext.read.json(clean_path)"
   ]
  },
  {
   "cell_type": "code",
   "execution_count": 5,
   "metadata": {},
   "outputs": [
    {
     "data": {
      "text/plain": [
       "342281006"
      ]
     },
     "execution_count": 5,
     "metadata": {},
     "output_type": "execute_result"
    }
   ],
   "source": [
    "# simply counts the number of rows in the data, takes about 20min\n",
    "clean_DF.count()"
   ]
  },
  {
   "cell_type": "code",
   "execution_count": 6,
   "metadata": {},
   "outputs": [
    {
     "name": "stdout",
     "output_type": "stream",
     "text": [
      "root\n",
      " |-- _id: struct (nullable = true)\n",
      " |    |-- $oid: string (nullable = true)\n",
      " |-- action_links: struct (nullable = true)\n",
      " |    |-- iphone_app_store_id: string (nullable = true)\n",
      " |    |-- iphone_app_store_link_text: string (nullable = true)\n",
      " |-- actor: struct (nullable = true)\n",
      " |    |-- about: string (nullable = true)\n",
      " |    |-- cancelled: boolean (nullable = true)\n",
      " |    |-- date_created: string (nullable = true)\n",
      " |    |-- email: string (nullable = true)\n",
      " |    |-- external_id: string (nullable = true)\n",
      " |    |-- firstname: string (nullable = true)\n",
      " |    |-- friends: string (nullable = true)\n",
      " |    |-- id: string (nullable = true)\n",
      " |    |-- is_business: boolean (nullable = true)\n",
      " |    |-- lastname: string (nullable = true)\n",
      " |    |-- name: string (nullable = true)\n",
      " |    |-- num_friends: long (nullable = true)\n",
      " |    |-- phone: string (nullable = true)\n",
      " |    |-- picture: string (nullable = true)\n",
      " |    |-- username: string (nullable = true)\n",
      " |-- audience: string (nullable = true)\n",
      " |-- comments: array (nullable = true)\n",
      " |    |-- element: struct (containsNull = true)\n",
      " |    |    |-- actor: struct (nullable = true)\n",
      " |    |    |    |-- about: string (nullable = true)\n",
      " |    |    |    |-- cancelled: boolean (nullable = true)\n",
      " |    |    |    |-- date_created: string (nullable = true)\n",
      " |    |    |    |-- email: string (nullable = true)\n",
      " |    |    |    |-- external_id: string (nullable = true)\n",
      " |    |    |    |-- firstname: string (nullable = true)\n",
      " |    |    |    |-- friends: string (nullable = true)\n",
      " |    |    |    |-- id: string (nullable = true)\n",
      " |    |    |    |-- is_business: boolean (nullable = true)\n",
      " |    |    |    |-- lastname: string (nullable = true)\n",
      " |    |    |    |-- name: string (nullable = true)\n",
      " |    |    |    |-- num_friends: long (nullable = true)\n",
      " |    |    |    |-- phone: string (nullable = true)\n",
      " |    |    |    |-- picture: string (nullable = true)\n",
      " |    |    |    |-- username: string (nullable = true)\n",
      " |    |    |-- comment_id: string (nullable = true)\n",
      " |    |    |-- created_time: string (nullable = true)\n",
      " |    |    |-- mentions: array (nullable = true)\n",
      " |    |    |    |-- element: struct (containsNull = true)\n",
      " |    |    |    |    |-- user: struct (nullable = true)\n",
      " |    |    |    |    |    |-- about: string (nullable = true)\n",
      " |    |    |    |    |    |-- cancelled: boolean (nullable = true)\n",
      " |    |    |    |    |    |-- date_created: string (nullable = true)\n",
      " |    |    |    |    |    |-- email: string (nullable = true)\n",
      " |    |    |    |    |    |-- external_id: string (nullable = true)\n",
      " |    |    |    |    |    |-- firstname: string (nullable = true)\n",
      " |    |    |    |    |    |-- friends: string (nullable = true)\n",
      " |    |    |    |    |    |-- id: string (nullable = true)\n",
      " |    |    |    |    |    |-- is_business: boolean (nullable = true)\n",
      " |    |    |    |    |    |-- lastname: string (nullable = true)\n",
      " |    |    |    |    |    |-- name: string (nullable = true)\n",
      " |    |    |    |    |    |-- num_friends: long (nullable = true)\n",
      " |    |    |    |    |    |-- phone: string (nullable = true)\n",
      " |    |    |    |    |    |-- picture: string (nullable = true)\n",
      " |    |    |    |    |    |-- username: string (nullable = true)\n",
      " |    |    |    |    |-- username: string (nullable = true)\n",
      " |    |    |-- message: string (nullable = true)\n",
      " |-- created_time: string (nullable = true)\n",
      " |-- likes: struct (nullable = true)\n",
      " |    |-- count: long (nullable = true)\n",
      " |    |-- data: array (nullable = true)\n",
      " |    |    |-- element: struct (containsNull = true)\n",
      " |    |    |    |-- about: string (nullable = true)\n",
      " |    |    |    |-- cancelled: boolean (nullable = true)\n",
      " |    |    |    |-- date_created: string (nullable = true)\n",
      " |    |    |    |-- email: string (nullable = true)\n",
      " |    |    |    |-- external_id: string (nullable = true)\n",
      " |    |    |    |-- firstname: string (nullable = true)\n",
      " |    |    |    |-- friends: string (nullable = true)\n",
      " |    |    |    |-- id: string (nullable = true)\n",
      " |    |    |    |-- is_business: boolean (nullable = true)\n",
      " |    |    |    |-- lastname: string (nullable = true)\n",
      " |    |    |    |-- name: string (nullable = true)\n",
      " |    |    |    |-- num_friends: long (nullable = true)\n",
      " |    |    |    |-- phone: string (nullable = true)\n",
      " |    |    |    |-- picture: string (nullable = true)\n",
      " |    |    |    |-- username: string (nullable = true)\n",
      " |-- mentions: array (nullable = true)\n",
      " |    |-- element: struct (containsNull = true)\n",
      " |    |    |-- user: struct (nullable = true)\n",
      " |    |    |    |-- about: string (nullable = true)\n",
      " |    |    |    |-- cancelled: boolean (nullable = true)\n",
      " |    |    |    |-- date_created: string (nullable = true)\n",
      " |    |    |    |-- email: string (nullable = true)\n",
      " |    |    |    |-- external_id: string (nullable = true)\n",
      " |    |    |    |-- firstname: string (nullable = true)\n",
      " |    |    |    |-- friends: string (nullable = true)\n",
      " |    |    |    |-- id: string (nullable = true)\n",
      " |    |    |    |-- is_business: boolean (nullable = true)\n",
      " |    |    |    |-- lastname: string (nullable = true)\n",
      " |    |    |    |-- name: string (nullable = true)\n",
      " |    |    |    |-- num_friends: long (nullable = true)\n",
      " |    |    |    |-- phone: string (nullable = true)\n",
      " |    |    |    |-- picture: string (nullable = true)\n",
      " |    |    |    |-- username: string (nullable = true)\n",
      " |    |    |-- username: string (nullable = true)\n",
      " |-- message: string (nullable = true)\n",
      " |-- payment_id: long (nullable = true)\n",
      " |-- permalink: string (nullable = true)\n",
      " |-- story_id: string (nullable = true)\n",
      " |-- transactions: array (nullable = true)\n",
      " |    |-- element: struct (containsNull = true)\n",
      " |    |    |-- target: string (nullable = true)\n",
      " |-- type: string (nullable = true)\n",
      " |-- unix_time: long (nullable = true)\n",
      " |-- updated_time: string (nullable = true)\n",
      " |-- via: string (nullable = true)\n",
      "\n"
     ]
    }
   ],
   "source": [
    "# get the schema of the json\n",
    "clean_DF.printSchema()"
   ]
  },
  {
   "cell_type": "code",
   "execution_count": 8,
   "metadata": {},
   "outputs": [
    {
     "data": {
      "text/plain": [
       "0"
      ]
     },
     "execution_count": 8,
     "metadata": {},
     "output_type": "execute_result"
    }
   ],
   "source": [
    "from pyspark.sql.functions import udf\n",
    "from pyspark.sql.types import IntegerType\n",
    "\n",
    "# this defines a function to run on every row of the data. I am doing this to look for transactions with length > 1 (split bills)\n",
    "row_size = udf(lambda row: len(row.__fields__), IntegerType())\n",
    "\n",
    "clean_DF.where(row_size(col(\"transactions\").getItem(0)) > 1).count()"
   ]
  },
  {
   "cell_type": "code",
   "execution_count": 9,
   "metadata": {},
   "outputs": [
    {
     "data": {
      "text/plain": [
       "9871759"
      ]
     },
     "execution_count": 9,
     "metadata": {},
     "output_type": "execute_result"
    }
   ],
   "source": [
    "clean_DF.where(size(col(\"comments\")) > 0).count()"
   ]
  },
  {
   "cell_type": "code",
   "execution_count": 10,
   "metadata": {},
   "outputs": [
    {
     "data": {
      "text/plain": [
       "42092037"
      ]
     },
     "execution_count": 10,
     "metadata": {},
     "output_type": "execute_result"
    }
   ],
   "source": [
    "clean_DF.where(col(\"likes\").getItem(\"count\") > 0).count()"
   ]
  },
  {
   "cell_type": "code",
   "execution_count": 11,
   "metadata": {},
   "outputs": [
    {
     "data": {
      "text/plain": [
       "533953"
      ]
     },
     "execution_count": 11,
     "metadata": {},
     "output_type": "execute_result"
    }
   ],
   "source": [
    "clean_DF.where(size(col(\"mentions\")) > 0).count()"
   ]
  },
  {
   "cell_type": "code",
   "execution_count": 12,
   "metadata": {},
   "outputs": [
    {
     "name": "stdout",
     "output_type": "stream",
     "text": [
      "+-------+---------+\n",
      "|   type|    count|\n",
      "+-------+---------+\n",
      "| charge| 56688775|\n",
      "|payment|285592231|\n",
      "+-------+---------+\n",
      "\n"
     ]
    }
   ],
   "source": [
    "clean_DF.groupBy(\"type\").count().show()"
   ]
  },
  {
   "cell_type": "code",
   "execution_count": null,
   "metadata": {},
   "outputs": [],
   "source": []
  }
 ],
 "metadata": {
  "kernelspec": {
   "display_name": "Python 3",
   "language": "python",
   "name": "python3"
  },
  "language_info": {
   "codemirror_mode": {
    "name": "ipython",
    "version": 3
   },
   "file_extension": ".py",
   "mimetype": "text/x-python",
   "name": "python",
   "nbconvert_exporter": "python",
   "pygments_lexer": "ipython3",
   "version": "3.7.0"
  }
 },
 "nbformat": 4,
 "nbformat_minor": 1
}
